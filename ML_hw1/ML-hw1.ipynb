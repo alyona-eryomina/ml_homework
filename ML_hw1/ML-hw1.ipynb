{
 "cells": [
  {
   "cell_type": "markdown",
   "id": "367e3583",
   "metadata": {},
   "source": [
    "Список заданий:\n",
    "1. Описать задачу словами - _сделано_\n",
    "2. Прочитать данные - _сделано_\n",
    "3. Визуализировать данные и вычислить основные характеристики (среднее, разброс, корреляционную матрицу и т.д.). Интерпретировать. - _сделано_\n",
    "4. Обработать пропущенные значения (или убедиться, что их нет) - _сделано_\n",
    "5. Обработать категориальные признаки - _сделано_\n",
    "6. Провести нормализацию (или объяснить, почему в вашем случае она не нужна) - _сделано_\n",
    "7. Разбить данные на обучающую и тестовую выборки - _сделано_\n",
    "8. Запустить классификатор ближайших соседей (попробовать разное их количество) - _сделано_\n",
    "9. Вычислить ошибки на обучающей и тестовой выборках. Сделать выводы - _сделано_\n",
    "10. По желанию: запустить другие классификаторы. Сравнить результаты - _сделано_\n",
    "11. По желанию: как-то побороться с несбалансированностью классов (если она есть)\n",
    "12. По желанию: исключить коррелированные переменные (объяснить зачем)\n",
    "13. Сделать общие выводы - _сделано_\n"
   ]
  },
  {
   "cell_type": "markdown",
   "id": "63ac5d06",
   "metadata": {},
   "source": [
    "## Описание задачи"
   ]
  },
  {
   "cell_type": "markdown",
   "id": "20b41075",
   "metadata": {},
   "source": [
    "Имеется набор данных, содержащий информацию о 2729 ритейлерах, работающих в России. Данные были взяты с российского сайта, который собирает информацию о российской торговой недвижимости и торговых центрах."
   ]
  },
  {
   "cell_type": "markdown",
   "id": "a57f403e",
   "metadata": {},
   "source": [
    "Задача классифиации - необходимо определить, к какой ценовой категории относится магазин."
   ]
  },
  {
   "cell_type": "markdown",
   "id": "d83d390f",
   "metadata": {},
   "source": [
    "## Загрузка данных"
   ]
  },
  {
   "cell_type": "code",
   "execution_count": 367,
   "id": "17675602",
   "metadata": {},
   "outputs": [],
   "source": [
    "import numpy as np\n",
    "import matplotlib.pyplot as plt\n",
    "import pandas as pd\n",
    "import seaborn as sns\n",
    "import sklearn "
   ]
  },
  {
   "cell_type": "code",
   "execution_count": 368,
   "id": "fc459898",
   "metadata": {},
   "outputs": [
    {
     "data": {
      "text/plain": [
       "(2729, 11)"
      ]
     },
     "execution_count": 368,
     "metadata": {},
     "output_type": "execute_result"
    }
   ],
   "source": [
    "data_raw = pd.read_csv(\"rus_retail.csv\", sep=\";\")\n",
    "data_raw.shape"
   ]
  },
  {
   "cell_type": "code",
   "execution_count": 369,
   "id": "709b620f",
   "metadata": {},
   "outputs": [
    {
     "data": {
      "text/html": [
       "<div>\n",
       "<style scoped>\n",
       "    .dataframe tbody tr th:only-of-type {\n",
       "        vertical-align: middle;\n",
       "    }\n",
       "\n",
       "    .dataframe tbody tr th {\n",
       "        vertical-align: top;\n",
       "    }\n",
       "\n",
       "    .dataframe thead th {\n",
       "        text-align: right;\n",
       "    }\n",
       "</style>\n",
       "<table border=\"1\" class=\"dataframe\">\n",
       "  <thead>\n",
       "    <tr style=\"text-align: right;\">\n",
       "      <th></th>\n",
       "      <th>name</th>\n",
       "      <th>country_origin</th>\n",
       "      <th>domain</th>\n",
       "      <th>price_category</th>\n",
       "      <th>founded</th>\n",
       "      <th>presence_world</th>\n",
       "      <th>presence_russia</th>\n",
       "      <th>presence_regions</th>\n",
       "      <th>description</th>\n",
       "      <th>plans</th>\n",
       "      <th>total_rented_area</th>\n",
       "    </tr>\n",
       "  </thead>\n",
       "  <tbody>\n",
       "    <tr>\n",
       "      <th>0</th>\n",
       "      <td>Бери заряд</td>\n",
       "      <td>Россия</td>\n",
       "      <td>Вендинг</td>\n",
       "      <td>Средний</td>\n",
       "      <td>2018.0</td>\n",
       "      <td>60000.0</td>\n",
       "      <td>250.0</td>\n",
       "      <td>Москва</td>\n",
       "      <td>«Бери Заряд!» первый в России сервис по прокат...</td>\n",
       "      <td>NaN</td>\n",
       "      <td>NaN</td>\n",
       "    </tr>\n",
       "    <tr>\n",
       "      <th>1</th>\n",
       "      <td>Levi’s</td>\n",
       "      <td>США</td>\n",
       "      <td>Одежда</td>\n",
       "      <td>Средний</td>\n",
       "      <td>1853.0</td>\n",
       "      <td>56500.0</td>\n",
       "      <td>263.0</td>\n",
       "      <td>Москва; Санкт-Петербург; Екатеринбург; Краснод...</td>\n",
       "      <td>Компания Levi Strauss&amp;Co была основана в XIX в...</td>\n",
       "      <td>NaN</td>\n",
       "      <td>NaN</td>\n",
       "    </tr>\n",
       "    <tr>\n",
       "      <th>2</th>\n",
       "      <td>Золотая корона</td>\n",
       "      <td>Россия</td>\n",
       "      <td>Банк, кредит, заем</td>\n",
       "      <td>Средний</td>\n",
       "      <td>1994.0</td>\n",
       "      <td>49000.0</td>\n",
       "      <td>40000.0</td>\n",
       "      <td>Москва; Санкт-Петербург; Абакан; Азов; Алексан...</td>\n",
       "      <td>«Золотая Корона» — российская платежная систем...</td>\n",
       "      <td>1000.0</td>\n",
       "      <td>NaN</td>\n",
       "    </tr>\n",
       "    <tr>\n",
       "      <th>3</th>\n",
       "      <td>Subway</td>\n",
       "      <td>США</td>\n",
       "      <td>Кафе, ресторан</td>\n",
       "      <td>Ниже среднего</td>\n",
       "      <td>1965.0</td>\n",
       "      <td>44000.0</td>\n",
       "      <td>700.0</td>\n",
       "      <td>Москва; Санкт-Петербург; Ангарск; Астрахань; Б...</td>\n",
       "      <td>Сеть ресторанов SUBWAY была основана в 1965 го...</td>\n",
       "      <td>NaN</td>\n",
       "      <td>NaN</td>\n",
       "    </tr>\n",
       "    <tr>\n",
       "      <th>4</th>\n",
       "      <td>Pizza Hut</td>\n",
       "      <td>США</td>\n",
       "      <td>Кафе, ресторан</td>\n",
       "      <td>Средний</td>\n",
       "      <td>1958.0</td>\n",
       "      <td>34000.0</td>\n",
       "      <td>52.0</td>\n",
       "      <td>Москва; Санкт-Петербург; Казань</td>\n",
       "      <td>Pizza Hut (Пицца Хат)— сеть ресторанов состоящ...</td>\n",
       "      <td>NaN</td>\n",
       "      <td>NaN</td>\n",
       "    </tr>\n",
       "  </tbody>\n",
       "</table>\n",
       "</div>"
      ],
      "text/plain": [
       "             name country_origin              domain price_category  founded  \\\n",
       "0      Бери заряд         Россия             Вендинг        Средний   2018.0   \n",
       "1          Levi’s            США              Одежда        Средний   1853.0   \n",
       "2  Золотая корона         Россия  Банк, кредит, заем        Средний   1994.0   \n",
       "3          Subway            США      Кафе, ресторан  Ниже среднего   1965.0   \n",
       "4       Pizza Hut            США      Кафе, ресторан        Средний   1958.0   \n",
       "\n",
       "   presence_world  presence_russia  \\\n",
       "0         60000.0            250.0   \n",
       "1         56500.0            263.0   \n",
       "2         49000.0          40000.0   \n",
       "3         44000.0            700.0   \n",
       "4         34000.0             52.0   \n",
       "\n",
       "                                    presence_regions  \\\n",
       "0                                             Москва   \n",
       "1  Москва; Санкт-Петербург; Екатеринбург; Краснод...   \n",
       "2  Москва; Санкт-Петербург; Абакан; Азов; Алексан...   \n",
       "3  Москва; Санкт-Петербург; Ангарск; Астрахань; Б...   \n",
       "4                    Москва; Санкт-Петербург; Казань   \n",
       "\n",
       "                                         description   plans  \\\n",
       "0  «Бери Заряд!» первый в России сервис по прокат...     NaN   \n",
       "1  Компания Levi Strauss&Co была основана в XIX в...     NaN   \n",
       "2  «Золотая Корона» — российская платежная систем...  1000.0   \n",
       "3  Сеть ресторанов SUBWAY была основана в 1965 го...     NaN   \n",
       "4  Pizza Hut (Пицца Хат)— сеть ресторанов состоящ...     NaN   \n",
       "\n",
       "   total_rented_area  \n",
       "0                NaN  \n",
       "1                NaN  \n",
       "2                NaN  \n",
       "3                NaN  \n",
       "4                NaN  "
      ]
     },
     "execution_count": 369,
     "metadata": {},
     "output_type": "execute_result"
    }
   ],
   "source": [
    "data_raw.head()"
   ]
  },
  {
   "cell_type": "code",
   "execution_count": 370,
   "id": "5e1133f2",
   "metadata": {},
   "outputs": [
    {
     "data": {
      "text/html": [
       "<div>\n",
       "<style scoped>\n",
       "    .dataframe tbody tr th:only-of-type {\n",
       "        vertical-align: middle;\n",
       "    }\n",
       "\n",
       "    .dataframe tbody tr th {\n",
       "        vertical-align: top;\n",
       "    }\n",
       "\n",
       "    .dataframe thead th {\n",
       "        text-align: right;\n",
       "    }\n",
       "</style>\n",
       "<table border=\"1\" class=\"dataframe\">\n",
       "  <thead>\n",
       "    <tr style=\"text-align: right;\">\n",
       "      <th></th>\n",
       "      <th>name</th>\n",
       "      <th>country_origin</th>\n",
       "      <th>domain</th>\n",
       "      <th>price_category</th>\n",
       "      <th>founded</th>\n",
       "      <th>presence_world</th>\n",
       "      <th>presence_russia</th>\n",
       "      <th>presence_regions</th>\n",
       "      <th>description</th>\n",
       "      <th>plans</th>\n",
       "      <th>total_rented_area</th>\n",
       "    </tr>\n",
       "  </thead>\n",
       "  <tbody>\n",
       "    <tr>\n",
       "      <th>2724</th>\n",
       "      <td>1001 тур</td>\n",
       "      <td>Россия</td>\n",
       "      <td>Туризм, путешествия</td>\n",
       "      <td>Средний</td>\n",
       "      <td>2002.0</td>\n",
       "      <td>NaN</td>\n",
       "      <td>327.0</td>\n",
       "      <td>Москва; Санкт-Петербург; Архангельск; Балашиха...</td>\n",
       "      <td>Компания «1001 Тур» работает с 2002 года. Сейч...</td>\n",
       "      <td>NaN</td>\n",
       "      <td>NaN</td>\n",
       "    </tr>\n",
       "    <tr>\n",
       "      <th>2725</th>\n",
       "      <td>1000 и одна туфелька</td>\n",
       "      <td>Россия</td>\n",
       "      <td>Товары и услуги для детей</td>\n",
       "      <td>Средний</td>\n",
       "      <td>NaN</td>\n",
       "      <td>NaN</td>\n",
       "      <td>22.0</td>\n",
       "      <td>Санкт-Петербург</td>\n",
       "      <td>«1000 и одна туфелька» - сеть специализированн...</td>\n",
       "      <td>NaN</td>\n",
       "      <td>NaN</td>\n",
       "    </tr>\n",
       "    <tr>\n",
       "      <th>2726</th>\n",
       "      <td>1000 и одна сумка</td>\n",
       "      <td>Россия</td>\n",
       "      <td>Аксессуары</td>\n",
       "      <td>Ниже среднего</td>\n",
       "      <td>2003.0</td>\n",
       "      <td>NaN</td>\n",
       "      <td>114.0</td>\n",
       "      <td>Москва; Санкт-Петербург; Анапа; Армавир; Астра...</td>\n",
       "      <td>«1000 и одна сумка» - динамично развивающаяся ...</td>\n",
       "      <td>40.0</td>\n",
       "      <td>NaN</td>\n",
       "    </tr>\n",
       "    <tr>\n",
       "      <th>2727</th>\n",
       "      <td>март.15</td>\n",
       "      <td>Россия</td>\n",
       "      <td>Аксессуары</td>\n",
       "      <td>Выше среднего</td>\n",
       "      <td>1998.0</td>\n",
       "      <td>NaN</td>\n",
       "      <td>58.0</td>\n",
       "      <td>Москва; Санкт-Петербург; Волгоград; Воронеж; Е...</td>\n",
       "      <td>Сеть часовых салонов «3-15» является одной из ...</td>\n",
       "      <td>NaN</td>\n",
       "      <td>NaN</td>\n",
       "    </tr>\n",
       "    <tr>\n",
       "      <th>2728</th>\n",
       "      <td>36,6</td>\n",
       "      <td>Россия</td>\n",
       "      <td>Аптека</td>\n",
       "      <td>Средний</td>\n",
       "      <td>1991.0</td>\n",
       "      <td>NaN</td>\n",
       "      <td>239.0</td>\n",
       "      <td>Москва; Санкт-Петербург; Балашиха; Белгород; Б...</td>\n",
       "      <td>Аптечная сеть «36,6» — национальный лидер розн...</td>\n",
       "      <td>15.0</td>\n",
       "      <td>NaN</td>\n",
       "    </tr>\n",
       "  </tbody>\n",
       "</table>\n",
       "</div>"
      ],
      "text/plain": [
       "                      name country_origin                     domain  \\\n",
       "2724              1001 тур         Россия        Туризм, путешествия   \n",
       "2725  1000 и одна туфелька         Россия  Товары и услуги для детей   \n",
       "2726     1000 и одна сумка         Россия                 Аксессуары   \n",
       "2727               март.15         Россия                 Аксессуары   \n",
       "2728                  36,6         Россия                     Аптека   \n",
       "\n",
       "     price_category  founded  presence_world  presence_russia  \\\n",
       "2724        Средний   2002.0             NaN            327.0   \n",
       "2725        Средний      NaN             NaN             22.0   \n",
       "2726  Ниже среднего   2003.0             NaN            114.0   \n",
       "2727  Выше среднего   1998.0             NaN             58.0   \n",
       "2728        Средний   1991.0             NaN            239.0   \n",
       "\n",
       "                                       presence_regions  \\\n",
       "2724  Москва; Санкт-Петербург; Архангельск; Балашиха...   \n",
       "2725                                    Санкт-Петербург   \n",
       "2726  Москва; Санкт-Петербург; Анапа; Армавир; Астра...   \n",
       "2727  Москва; Санкт-Петербург; Волгоград; Воронеж; Е...   \n",
       "2728  Москва; Санкт-Петербург; Балашиха; Белгород; Б...   \n",
       "\n",
       "                                            description  plans  \\\n",
       "2724  Компания «1001 Тур» работает с 2002 года. Сейч...    NaN   \n",
       "2725  «1000 и одна туфелька» - сеть специализированн...    NaN   \n",
       "2726  «1000 и одна сумка» - динамично развивающаяся ...   40.0   \n",
       "2727  Сеть часовых салонов «3-15» является одной из ...    NaN   \n",
       "2728  Аптечная сеть «36,6» — национальный лидер розн...   15.0   \n",
       "\n",
       "      total_rented_area  \n",
       "2724                NaN  \n",
       "2725                NaN  \n",
       "2726                NaN  \n",
       "2727                NaN  \n",
       "2728                NaN  "
      ]
     },
     "execution_count": 370,
     "metadata": {},
     "output_type": "execute_result"
    }
   ],
   "source": [
    "data_raw.tail()"
   ]
  },
  {
   "cell_type": "markdown",
   "id": "b9a8ec45",
   "metadata": {},
   "source": [
    "Признаки имеют следующие имена и типы:\n",
    "+ name - имя ритейлера\n",
    "+ country_origin - страна происхождения\n",
    "+ domain - специализация (Одежда, Аптека, Аксессуары и т.д.)\n",
    "+ price_category - ценовая категория (Неизвестно, Ниже среднего, Средний, Выше среднего, Люкс/Премиум)\n",
    "+ founded - год основания\n",
    "+ presence_world - количество магазинов по миру\n",
    "+ presence_russia - количество магазинов в России\n",
    "+ presence_regions - регионы России, в которых представлены магазины\n",
    "+ description - описание\n",
    "+ plans - количество магазинов, которые ритейлер планирует открыть в России\n",
    "+ total_rented_area - общая арендная площадь"
   ]
  },
  {
   "cell_type": "markdown",
   "id": "adb3f5a7",
   "metadata": {},
   "source": [
    "Можно сделать первоначальные выводы о том, что имя магазина и его описание не влияют на его ценовую категорию, так как эти признаки индивидуальны и не имеют содержательной информации."
   ]
  },
  {
   "cell_type": "markdown",
   "id": "9060e5a5",
   "metadata": {},
   "source": [
    "Имена ячеек:"
   ]
  },
  {
   "cell_type": "code",
   "execution_count": 371,
   "id": "15d2fdf9",
   "metadata": {},
   "outputs": [
    {
     "data": {
      "text/plain": [
       "Index(['name', 'country_origin', 'domain', 'price_category', 'founded',\n",
       "       'presence_world', 'presence_russia', 'presence_regions', 'description',\n",
       "       'plans', 'total_rented_area'],\n",
       "      dtype='object')"
      ]
     },
     "execution_count": 371,
     "metadata": {},
     "output_type": "execute_result"
    }
   ],
   "source": [
    "data_raw.columns"
   ]
  },
  {
   "cell_type": "markdown",
   "id": "2ef404b5",
   "metadata": {},
   "source": [
    "Имена строк:"
   ]
  },
  {
   "cell_type": "code",
   "execution_count": 372,
   "id": "371ca52e",
   "metadata": {},
   "outputs": [
    {
     "data": {
      "text/plain": [
       "RangeIndex(start=0, stop=2729, step=1)"
      ]
     },
     "execution_count": 372,
     "metadata": {},
     "output_type": "execute_result"
    }
   ],
   "source": [
    "data_raw.index"
   ]
  },
  {
   "cell_type": "markdown",
   "id": "f210205b",
   "metadata": {},
   "source": [
    "## Обработка пропущенных значений"
   ]
  },
  {
   "cell_type": "markdown",
   "id": "6a6e97d1",
   "metadata": {},
   "source": [
    "Разделим данные на категориальные и количественные"
   ]
  },
  {
   "cell_type": "code",
   "execution_count": 373,
   "id": "58f997b5",
   "metadata": {},
   "outputs": [
    {
     "name": "stdout",
     "output_type": "stream",
     "text": [
      "['name', 'country_origin', 'domain', 'price_category', 'presence_regions', 'description']\n",
      "['founded', 'presence_world', 'presence_russia', 'plans', 'total_rented_area']\n"
     ]
    }
   ],
   "source": [
    "categorical_columns = [c for c in data_raw.columns if data_raw[c].dtype.name == 'object']\n",
    "numerical_columns   = [c for c in data_raw.columns if data_raw[c].dtype.name != 'object']\n",
    "print(categorical_columns)\n",
    "print(numerical_columns)"
   ]
  },
  {
   "cell_type": "markdown",
   "id": "d8fbaa93",
   "metadata": {},
   "source": [
    "Исследуем данные на наличие или отсутствие пропущенных значений"
   ]
  },
  {
   "cell_type": "code",
   "execution_count": 374,
   "id": "df55eda8",
   "metadata": {},
   "outputs": [
    {
     "data": {
      "text/plain": [
       "name                2729\n",
       "country_origin      2729\n",
       "domain              2729\n",
       "price_category      2729\n",
       "presence_regions    2675\n",
       "description         2727\n",
       "dtype: int64"
      ]
     },
     "execution_count": 374,
     "metadata": {},
     "output_type": "execute_result"
    }
   ],
   "source": [
    "data_raw[categorical_columns].count(axis = 0)"
   ]
  },
  {
   "cell_type": "markdown",
   "id": "47d2b8da",
   "metadata": {},
   "source": [
    "Пропущенные значения для признака 'presence_regions' заполним самым популярным значением в столбце. 'description' менять не будем из-за причины, указанной выше."
   ]
  },
  {
   "cell_type": "code",
   "execution_count": 375,
   "id": "f0c46365",
   "metadata": {},
   "outputs": [],
   "source": [
    "data_raw['presence_regions'] = data_raw['presence_regions'].fillna(data_raw['presence_regions'].describe().top)"
   ]
  },
  {
   "cell_type": "code",
   "execution_count": 376,
   "id": "3b030794",
   "metadata": {},
   "outputs": [
    {
     "data": {
      "text/plain": [
       "name                2729\n",
       "country_origin      2729\n",
       "domain              2729\n",
       "price_category      2729\n",
       "presence_regions    2729\n",
       "description         2727\n",
       "dtype: int64"
      ]
     },
     "execution_count": 376,
     "metadata": {},
     "output_type": "execute_result"
    }
   ],
   "source": [
    "data_raw[categorical_columns].count(axis = 0)"
   ]
  },
  {
   "cell_type": "code",
   "execution_count": 377,
   "id": "3df8bc17",
   "metadata": {},
   "outputs": [
    {
     "data": {
      "text/plain": [
       "founded              2533\n",
       "presence_world       1161\n",
       "presence_russia      2693\n",
       "plans                 760\n",
       "total_rented_area     117\n",
       "dtype: int64"
      ]
     },
     "execution_count": 377,
     "metadata": {},
     "output_type": "execute_result"
    }
   ],
   "source": [
    "data_raw[numerical_columns].count(axis = 0)"
   ]
  },
  {
   "cell_type": "markdown",
   "id": "72bdda07",
   "metadata": {},
   "source": [
    "Пропущенные значения для признаков 'founded', 'presence_russia' и 'plans' заполним медианой. В 'presence_world' положим нули, то есть будет считать, что этого ретейлера нет за пределами России. Признак 'total_rented_area' содержит слишком мало данных, поэтому мы не будем его рассматривать."
   ]
  },
  {
   "cell_type": "code",
   "execution_count": 378,
   "id": "8a39afd8",
   "metadata": {},
   "outputs": [],
   "source": [
    "data_raw['founded'] = data_raw['founded'].fillna(data_raw['founded'].median(axis = 0), axis = 0)"
   ]
  },
  {
   "cell_type": "code",
   "execution_count": 379,
   "id": "902fa3f3",
   "metadata": {},
   "outputs": [],
   "source": [
    "data_raw['presence_russia'] = data_raw['presence_russia'].fillna(data_raw['presence_russia'].median(axis = 0), axis = 0)"
   ]
  },
  {
   "cell_type": "code",
   "execution_count": 380,
   "id": "9f1f08cb",
   "metadata": {},
   "outputs": [],
   "source": [
    "data_raw['plans'] = data_raw['plans'].fillna(data_raw['plans'].median(axis = 0), axis = 0)"
   ]
  },
  {
   "cell_type": "code",
   "execution_count": 381,
   "id": "d7bf8113",
   "metadata": {},
   "outputs": [],
   "source": [
    "data_raw['presence_world'] = data_raw['presence_world'].fillna(0, axis = 0)"
   ]
  },
  {
   "cell_type": "code",
   "execution_count": 382,
   "id": "5681f126",
   "metadata": {},
   "outputs": [
    {
     "data": {
      "text/plain": [
       "founded              2729\n",
       "presence_world       2729\n",
       "presence_russia      2729\n",
       "plans                2729\n",
       "total_rented_area     117\n",
       "dtype: int64"
      ]
     },
     "execution_count": 382,
     "metadata": {},
     "output_type": "execute_result"
    }
   ],
   "source": [
    "data_raw[numerical_columns].count(axis = 0)"
   ]
  },
  {
   "cell_type": "markdown",
   "id": "e89a9e87",
   "metadata": {},
   "source": [
    "### Обработка категориальных значений"
   ]
  },
  {
   "cell_type": "markdown",
   "id": "84df01e5",
   "metadata": {},
   "source": [
    "Столбцы 'country_origin', 'domain' и 'price_category' содержат категориальные признаки. Необходимо заменить их тип 'Object' на специальный, предназначенный для хранения категориальных значений"
   ]
  },
  {
   "cell_type": "code",
   "execution_count": 383,
   "id": "bd68842b",
   "metadata": {},
   "outputs": [],
   "source": [
    "data_raw['country_origin'] = data_raw['country_origin'].astype('category')"
   ]
  },
  {
   "cell_type": "code",
   "execution_count": 384,
   "id": "ca23a347",
   "metadata": {},
   "outputs": [
    {
     "data": {
      "text/plain": [
       "CategoricalDtype(categories=['Австралия', 'Австрия', 'Беларусь', 'Бельгия',\n",
       "                  'Великобритания', 'Венгрия', 'Вьетнам', 'Германия', 'Греция',\n",
       "                  'Грузия', 'Дания', 'Европа', 'Израиль', 'Индия', 'Испания',\n",
       "                  'Италия', 'Канада', 'Китай', 'Корея', 'Латвия', 'Литва',\n",
       "                  'Мексика', 'Молдавия', 'Нидерланды', 'Норвегия', 'Польша',\n",
       "                  'Португалия', 'Россия', 'США', 'Сербия', 'Турция', 'Украина',\n",
       "                  'Финляндия', 'Франция', 'Чехия', 'Швейцария', 'Швеция',\n",
       "                  'Шри-Ланка', 'Южная Корея', 'Япония'],\n",
       ", ordered=False)"
      ]
     },
     "execution_count": 384,
     "metadata": {},
     "output_type": "execute_result"
    }
   ],
   "source": [
    "data_raw['country_origin'].dtype"
   ]
  },
  {
   "cell_type": "code",
   "execution_count": 385,
   "id": "b5f2bf5d",
   "metadata": {},
   "outputs": [],
   "source": [
    "data_raw['domain'] = data_raw['domain'].astype('category')"
   ]
  },
  {
   "cell_type": "code",
   "execution_count": 386,
   "id": "2629f608",
   "metadata": {},
   "outputs": [
    {
     "data": {
      "text/plain": [
       "CategoricalDtype(categories=['Авто и товары для авто', 'Аксессуары', 'Аптека',\n",
       "                  'Банк, кредит, заем', 'Бытовая техника', 'Вендинг',\n",
       "                  'Вино и алкогольные напитки', 'Все для дома',\n",
       "                  'Здоровье, лечение, профилактика', 'Зоотовары и услуги',\n",
       "                  'Кафе, ресторан', 'Книги и печатные издания',\n",
       "                  'Компьютеры, комплектующие, аксессуары', 'Красота',\n",
       "                  'Магазин для Взрослых', 'Мебель', 'Образование / обучение',\n",
       "                  'Обувь', 'Одежда', 'Оптика', 'Парфюмерия и Косметика',\n",
       "                  'Продукты питания', 'Развлечения', 'Ремонт и строительство',\n",
       "                  'Сигары, табак, аксессуары', 'Сладости и Шоколад',\n",
       "                  'Сотовые телефоны, электроника, фото', 'Спорт',\n",
       "                  'Ставки и лотереи', 'Сувениры и Подарки',\n",
       "                  'Товары и услуги для детей', 'Туризм, путешествия',\n",
       "                  'Услуги для бизнеса (b2b)', 'Услуги населению',\n",
       "                  'Хобби и увлечения', 'Цветы и растения',\n",
       "                  'Чай, кофе, аксессуары', 'Шоколадный бутик',\n",
       "                  'Ювелирные магазины'],\n",
       ", ordered=False)"
      ]
     },
     "execution_count": 386,
     "metadata": {},
     "output_type": "execute_result"
    }
   ],
   "source": [
    "data_raw['domain'].dtype"
   ]
  },
  {
   "cell_type": "code",
   "execution_count": 387,
   "id": "dd4bf099",
   "metadata": {},
   "outputs": [],
   "source": [
    "data_raw['price_category'] = data_raw['price_category'].astype('category')"
   ]
  },
  {
   "cell_type": "code",
   "execution_count": 388,
   "id": "7dc079c6",
   "metadata": {},
   "outputs": [
    {
     "data": {
      "text/plain": [
       "CategoricalDtype(categories=['Выше среднего', 'Люкс / Премиум', 'Неизвестно',\n",
       "                  'Ниже среднего', 'Средний'],\n",
       ", ordered=False)"
      ]
     },
     "execution_count": 388,
     "metadata": {},
     "output_type": "execute_result"
    }
   ],
   "source": [
    "data_raw['price_category'].dtype"
   ]
  },
  {
   "cell_type": "markdown",
   "id": "f8fd0a3e",
   "metadata": {},
   "source": [
    "## Обновление данных"
   ]
  },
  {
   "cell_type": "markdown",
   "id": "6e3c9cfb",
   "metadata": {},
   "source": [
    "Удалим признаки 'name', 'description' и 'total_rented_area'. Также удалим признак 'presence_regions', содержащий слишком сложные данные для такого небольшого числа ретейлеров"
   ]
  },
  {
   "cell_type": "code",
   "execution_count": 389,
   "id": "295a93b8",
   "metadata": {},
   "outputs": [
    {
     "name": "stdout",
     "output_type": "stream",
     "text": [
      "     country_origin                     domain price_category  founded  \\\n",
      "0            Россия                    Вендинг        Средний   2018.0   \n",
      "1               США                     Одежда        Средний   1853.0   \n",
      "2            Россия         Банк, кредит, заем        Средний   1994.0   \n",
      "3               США             Кафе, ресторан  Ниже среднего   1965.0   \n",
      "4               США             Кафе, ресторан        Средний   1958.0   \n",
      "...             ...                        ...            ...      ...   \n",
      "2724         Россия        Туризм, путешествия        Средний   2002.0   \n",
      "2725         Россия  Товары и услуги для детей        Средний   2002.0   \n",
      "2726         Россия                 Аксессуары  Ниже среднего   2003.0   \n",
      "2727         Россия                 Аксессуары  Выше среднего   1998.0   \n",
      "2728         Россия                     Аптека        Средний   1991.0   \n",
      "\n",
      "      presence_world  presence_russia   plans  \n",
      "0            60000.0            250.0    10.0  \n",
      "1            56500.0            263.0    10.0  \n",
      "2            49000.0          40000.0  1000.0  \n",
      "3            44000.0            700.0    10.0  \n",
      "4            34000.0             52.0    10.0  \n",
      "...              ...              ...     ...  \n",
      "2724             0.0            327.0    10.0  \n",
      "2725             0.0             22.0    10.0  \n",
      "2726             0.0            114.0    40.0  \n",
      "2727             0.0             58.0    10.0  \n",
      "2728             0.0            239.0    15.0  \n",
      "\n",
      "[2729 rows x 7 columns]\n"
     ]
    }
   ],
   "source": [
    "data = data_raw[['country_origin', 'domain', 'price_category', 'founded', 'presence_world', 'presence_russia', 'plans']]\n",
    "print(data)"
   ]
  },
  {
   "cell_type": "markdown",
   "id": "a4ebcad3",
   "metadata": {},
   "source": [
    "### Визуализация и описательная статистика"
   ]
  },
  {
   "cell_type": "markdown",
   "id": "3a35cf18",
   "metadata": {},
   "source": [
    "Сводная информация для количественных признаков"
   ]
  },
  {
   "cell_type": "code",
   "execution_count": 390,
   "id": "3a587c51",
   "metadata": {},
   "outputs": [
    {
     "data": {
      "text/html": [
       "<div>\n",
       "<style scoped>\n",
       "    .dataframe tbody tr th:only-of-type {\n",
       "        vertical-align: middle;\n",
       "    }\n",
       "\n",
       "    .dataframe tbody tr th {\n",
       "        vertical-align: top;\n",
       "    }\n",
       "\n",
       "    .dataframe thead th {\n",
       "        text-align: right;\n",
       "    }\n",
       "</style>\n",
       "<table border=\"1\" class=\"dataframe\">\n",
       "  <thead>\n",
       "    <tr style=\"text-align: right;\">\n",
       "      <th></th>\n",
       "      <th>founded</th>\n",
       "      <th>presence_world</th>\n",
       "      <th>presence_russia</th>\n",
       "      <th>plans</th>\n",
       "    </tr>\n",
       "  </thead>\n",
       "  <tbody>\n",
       "    <tr>\n",
       "      <th>count</th>\n",
       "      <td>2729.000000</td>\n",
       "      <td>2729.000000</td>\n",
       "      <td>2729.000000</td>\n",
       "      <td>2729.000000</td>\n",
       "    </tr>\n",
       "    <tr>\n",
       "      <th>mean</th>\n",
       "      <td>1997.990106</td>\n",
       "      <td>213.818615</td>\n",
       "      <td>169.857091</td>\n",
       "      <td>25.752290</td>\n",
       "    </tr>\n",
       "    <tr>\n",
       "      <th>std</th>\n",
       "      <td>26.153483</td>\n",
       "      <td>2320.716137</td>\n",
       "      <td>1838.101472</td>\n",
       "      <td>248.510738</td>\n",
       "    </tr>\n",
       "    <tr>\n",
       "      <th>min</th>\n",
       "      <td>1300.000000</td>\n",
       "      <td>0.000000</td>\n",
       "      <td>1.000000</td>\n",
       "      <td>1.000000</td>\n",
       "    </tr>\n",
       "    <tr>\n",
       "      <th>25%</th>\n",
       "      <td>1996.000000</td>\n",
       "      <td>0.000000</td>\n",
       "      <td>9.000000</td>\n",
       "      <td>10.000000</td>\n",
       "    </tr>\n",
       "    <tr>\n",
       "      <th>50%</th>\n",
       "      <td>2002.000000</td>\n",
       "      <td>0.000000</td>\n",
       "      <td>21.000000</td>\n",
       "      <td>10.000000</td>\n",
       "    </tr>\n",
       "    <tr>\n",
       "      <th>75%</th>\n",
       "      <td>2009.000000</td>\n",
       "      <td>15.000000</td>\n",
       "      <td>62.000000</td>\n",
       "      <td>10.000000</td>\n",
       "    </tr>\n",
       "    <tr>\n",
       "      <th>max</th>\n",
       "      <td>2020.000000</td>\n",
       "      <td>60000.000000</td>\n",
       "      <td>60000.000000</td>\n",
       "      <td>10000.000000</td>\n",
       "    </tr>\n",
       "  </tbody>\n",
       "</table>\n",
       "</div>"
      ],
      "text/plain": [
       "           founded  presence_world  presence_russia         plans\n",
       "count  2729.000000     2729.000000      2729.000000   2729.000000\n",
       "mean   1997.990106      213.818615       169.857091     25.752290\n",
       "std      26.153483     2320.716137      1838.101472    248.510738\n",
       "min    1300.000000        0.000000         1.000000      1.000000\n",
       "25%    1996.000000        0.000000         9.000000     10.000000\n",
       "50%    2002.000000        0.000000        21.000000     10.000000\n",
       "75%    2009.000000       15.000000        62.000000     10.000000\n",
       "max    2020.000000    60000.000000     60000.000000  10000.000000"
      ]
     },
     "execution_count": 390,
     "metadata": {},
     "output_type": "execute_result"
    }
   ],
   "source": [
    "data.describe()"
   ]
  },
  {
   "cell_type": "markdown",
   "id": "6f3854e7",
   "metadata": {},
   "source": [
    "Сводная информация для категориальных признаков"
   ]
  },
  {
   "cell_type": "code",
   "execution_count": 391,
   "id": "8ac6af5d",
   "metadata": {},
   "outputs": [
    {
     "data": {
      "text/html": [
       "<div>\n",
       "<style scoped>\n",
       "    .dataframe tbody tr th:only-of-type {\n",
       "        vertical-align: middle;\n",
       "    }\n",
       "\n",
       "    .dataframe tbody tr th {\n",
       "        vertical-align: top;\n",
       "    }\n",
       "\n",
       "    .dataframe thead th {\n",
       "        text-align: right;\n",
       "    }\n",
       "</style>\n",
       "<table border=\"1\" class=\"dataframe\">\n",
       "  <thead>\n",
       "    <tr style=\"text-align: right;\">\n",
       "      <th></th>\n",
       "      <th>country_origin</th>\n",
       "      <th>domain</th>\n",
       "      <th>price_category</th>\n",
       "    </tr>\n",
       "  </thead>\n",
       "  <tbody>\n",
       "    <tr>\n",
       "      <th>count</th>\n",
       "      <td>2729</td>\n",
       "      <td>2729</td>\n",
       "      <td>2729</td>\n",
       "    </tr>\n",
       "    <tr>\n",
       "      <th>unique</th>\n",
       "      <td>40</td>\n",
       "      <td>39</td>\n",
       "      <td>5</td>\n",
       "    </tr>\n",
       "    <tr>\n",
       "      <th>top</th>\n",
       "      <td>Россия</td>\n",
       "      <td>Одежда</td>\n",
       "      <td>Средний</td>\n",
       "    </tr>\n",
       "    <tr>\n",
       "      <th>freq</th>\n",
       "      <td>2324</td>\n",
       "      <td>387</td>\n",
       "      <td>1879</td>\n",
       "    </tr>\n",
       "  </tbody>\n",
       "</table>\n",
       "</div>"
      ],
      "text/plain": [
       "       country_origin  domain price_category\n",
       "count            2729    2729           2729\n",
       "unique             40      39              5\n",
       "top            Россия  Одежда        Средний\n",
       "freq             2324     387           1879"
      ]
     },
     "execution_count": 391,
     "metadata": {},
     "output_type": "execute_result"
    }
   ],
   "source": [
    "data_raw.describe(include = ['category'])"
   ]
  },
  {
   "cell_type": "markdown",
   "id": "4a73b74b",
   "metadata": {},
   "source": [
    "Построим диаграмму рассеивания для признаков 'price_category' и всех остальных признаков"
   ]
  },
  {
   "cell_type": "code",
   "execution_count": 392,
   "id": "7de0a777",
   "metadata": {},
   "outputs": [
    {
     "data": {
      "text/plain": [
       "Text(0, 0.5, 'price_category')"
      ]
     },
     "execution_count": 392,
     "metadata": {},
     "output_type": "execute_result"
    },
    {
     "data": {
      "image/png": "[encoded data removed]",
      "text/plain": [
       "<Figure size 640x480 with 1 Axes>"
      ]
     },
     "metadata": {},
     "output_type": "display_data"
    }
   ],
   "source": [
    "plt.scatter(data['country_origin'], data['price_category'])\n",
    "plt.xlabel('country_origin')\n",
    "plt.ylabel('price_category')"
   ]
  },
  {
   "cell_type": "code",
   "execution_count": 393,
   "id": "63f3d168",
   "metadata": {},
   "outputs": [
    {
     "data": {
      "text/plain": [
       "Text(0, 0.5, 'price_category')"
      ]
     },
     "execution_count": 393,
     "metadata": {},
     "output_type": "execute_result"
    },
    {
     "data": {
      "image/png": "[encoded data removed]",
      "text/plain": [
       "<Figure size 640x480 with 1 Axes>"
      ]
     },
     "metadata": {},
     "output_type": "display_data"
    }
   ],
   "source": [
    "plt.scatter(data['domain'], data['price_category'])\n",
    "plt.xlabel('domain')\n",
    "plt.ylabel('price_category')"
   ]
  },
  {
   "cell_type": "code",
   "execution_count": 394,
   "id": "f80fa7a3",
   "metadata": {},
   "outputs": [
    {
     "data": {
      "text/plain": [
       "Text(0, 0.5, 'price_category')"
      ]
     },
     "execution_count": 394,
     "metadata": {},
     "output_type": "execute_result"
    },
    {
     "data": {
      "image/png": "[encoded data removed]",
      "text/plain": [
       "<Figure size 640x480 with 1 Axes>"
      ]
     },
     "metadata": {},
     "output_type": "display_data"
    }
   ],
   "source": [
    "plt.scatter(data['founded'], data['price_category'])\n",
    "plt.xlabel('founded')\n",
    "plt.ylabel('price_category')"
   ]
  },
  {
   "cell_type": "code",
   "execution_count": 395,
   "id": "14a51f3b",
   "metadata": {},
   "outputs": [
    {
     "data": {
      "text/plain": [
       "Text(0, 0.5, 'price_category')"
      ]
     },
     "execution_count": 395,
     "metadata": {},
     "output_type": "execute_result"
    },
    {
     "data": {
      "image/png": "[encoded data removed]",
      "text/plain": [
       "<Figure size 640x480 with 1 Axes>"
      ]
     },
     "metadata": {},
     "output_type": "display_data"
    }
   ],
   "source": [
    "plt.scatter(data['presence_world'], data['price_category'])\n",
    "plt.xlabel('presence_world')\n",
    "plt.ylabel('price_category')"
   ]
  },
  {
   "cell_type": "code",
   "execution_count": 396,
   "id": "037117dc",
   "metadata": {},
   "outputs": [
    {
     "data": {
      "text/plain": [
       "Text(0, 0.5, 'price_category')"
      ]
     },
     "execution_count": 396,
     "metadata": {},
     "output_type": "execute_result"
    },
    {
     "data": {
      "image/png": "[encoded data removed]",
      "text/plain": [
       "<Figure size 640x480 with 1 Axes>"
      ]
     },
     "metadata": {},
     "output_type": "display_data"
    }
   ],
   "source": [
    "plt.scatter(data['presence_russia'], data['price_category'])\n",
    "plt.xlabel('presence_russia')\n",
    "plt.ylabel('price_category')"
   ]
  },
  {
   "cell_type": "code",
   "execution_count": 397,
   "id": "32a62946",
   "metadata": {},
   "outputs": [
    {
     "data": {
      "text/plain": [
       "Text(0, 0.5, 'price_category')"
      ]
     },
     "execution_count": 397,
     "metadata": {},
     "output_type": "execute_result"
    },
    {
     "data": {
      "image/png": "[encoded data removed]",
      "text/plain": [
       "<Figure size 640x480 with 1 Axes>"
      ]
     },
     "metadata": {},
     "output_type": "display_data"
    }
   ],
   "source": [
    "plt.scatter(data['plans'], data['price_category'])\n",
    "plt.xlabel('plans')\n",
    "plt.ylabel('price_category')"
   ]
  },
  {
   "cell_type": "markdown",
   "id": "ada94a9f",
   "metadata": {},
   "source": [
    "Мы видим странное значение признака 'founded', равное 1300, и грандиазные планы ретейлеров на открытие >6000 торговых точек, которые следует удалить. Также исследуем на выбросы признаки 'presence_world' и 'presence_russia' и избавимся от выбросов, если они имеются"
   ]
  },
  {
   "cell_type": "code",
   "execution_count": 398,
   "id": "7c6f194f",
   "metadata": {},
   "outputs": [
    {
     "data": {
      "text/plain": [
       "0.005       0.0\n",
       "0.010       0.0\n",
       "0.050       0.0\n",
       "0.100       0.0\n",
       "0.500       0.0\n",
       "0.900     100.0\n",
       "0.950     400.0\n",
       "0.990    3000.0\n",
       "0.995    7720.0\n",
       "Name: presence_world, dtype: float64"
      ]
     },
     "execution_count": 398,
     "metadata": {},
     "output_type": "execute_result"
    }
   ],
   "source": [
    "data['presence_world'].quantile([0.005,0.01,.05,0.1,0.5,0.9,0.95,0.99,0.995])"
   ]
  },
  {
   "cell_type": "code",
   "execution_count": 399,
   "id": "22a68b94",
   "metadata": {},
   "outputs": [
    {
     "data": {
      "text/plain": [
       "0.005       1.0\n",
       "0.010       2.0\n",
       "0.050       3.0\n",
       "0.100       4.0\n",
       "0.500      21.0\n",
       "0.900     181.4\n",
       "0.950     368.2\n",
       "0.990    1607.2\n",
       "0.995    3036.0\n",
       "Name: presence_russia, dtype: float64"
      ]
     },
     "execution_count": 399,
     "metadata": {},
     "output_type": "execute_result"
    }
   ],
   "source": [
    "data['presence_russia'].quantile([0.005,0.01,.05,0.1,0.5,0.9,0.95,0.99,0.995])"
   ]
  },
  {
   "cell_type": "markdown",
   "id": "bbae36c3",
   "metadata": {},
   "source": [
    "Как мы видим, 99% всех значений этого признака находится в диапазоне от 1 до 3036. Удалим все строки в таблице, в которых 'presence_russia' выходит за пределы, а также строки, в которых 'founded' = 1300 и 'plans' = 10000:"
   ]
  },
  {
   "cell_type": "code",
   "execution_count": 400,
   "id": "fcfa1a13",
   "metadata": {},
   "outputs": [
    {
     "data": {
      "text/plain": [
       "(2713, 7)"
      ]
     },
     "execution_count": 400,
     "metadata": {},
     "output_type": "execute_result"
    }
   ],
   "source": [
    "rows_to_drop = data[(data['founded'] == 1300) | (data['plans'] > 6000) | (data['presence_russia']  < data['presence_russia'].quantile(0.005)) | (data['presence_russia']  > data['presence_russia'].quantile(0.995))].index\n",
    "data = data.drop(rows_to_drop)\n",
    "data.shape"
   ]
  },
  {
   "cell_type": "markdown",
   "id": "c2ff0b85",
   "metadata": {},
   "source": [
    "Вычислим матрицу корреляции"
   ]
  },
  {
   "cell_type": "code",
   "execution_count": 401,
   "id": "1da1de87",
   "metadata": {},
   "outputs": [
    {
     "name": "stderr",
     "output_type": "stream",
     "text": [
      "/var/folders/82/8skpw2ds04b3mfj_gzyz_qhc0000gp/T/ipykernel_29901/2083231324.py:1: FutureWarning: The default value of numeric_only in DataFrame.corr is deprecated. In a future version, it will default to False. Select only valid columns or specify the value of numeric_only to silence this warning.\n",
      "  corr_mat = data.corr()\n"
     ]
    },
    {
     "data": {
      "text/html": [
       "<div>\n",
       "<style scoped>\n",
       "    .dataframe tbody tr th:only-of-type {\n",
       "        vertical-align: middle;\n",
       "    }\n",
       "\n",
       "    .dataframe tbody tr th {\n",
       "        vertical-align: top;\n",
       "    }\n",
       "\n",
       "    .dataframe thead th {\n",
       "        text-align: right;\n",
       "    }\n",
       "</style>\n",
       "<table border=\"1\" class=\"dataframe\">\n",
       "  <thead>\n",
       "    <tr style=\"text-align: right;\">\n",
       "      <th></th>\n",
       "      <th>founded</th>\n",
       "      <th>presence_world</th>\n",
       "      <th>presence_russia</th>\n",
       "      <th>plans</th>\n",
       "    </tr>\n",
       "  </thead>\n",
       "  <tbody>\n",
       "    <tr>\n",
       "      <th>founded</th>\n",
       "      <td>1.000000</td>\n",
       "      <td>-0.141395</td>\n",
       "      <td>-0.025510</td>\n",
       "      <td>0.033686</td>\n",
       "    </tr>\n",
       "    <tr>\n",
       "      <th>presence_world</th>\n",
       "      <td>-0.141395</td>\n",
       "      <td>1.000000</td>\n",
       "      <td>0.084813</td>\n",
       "      <td>-0.001365</td>\n",
       "    </tr>\n",
       "    <tr>\n",
       "      <th>presence_russia</th>\n",
       "      <td>-0.025510</td>\n",
       "      <td>0.084813</td>\n",
       "      <td>1.000000</td>\n",
       "      <td>0.257431</td>\n",
       "    </tr>\n",
       "    <tr>\n",
       "      <th>plans</th>\n",
       "      <td>0.033686</td>\n",
       "      <td>-0.001365</td>\n",
       "      <td>0.257431</td>\n",
       "      <td>1.000000</td>\n",
       "    </tr>\n",
       "  </tbody>\n",
       "</table>\n",
       "</div>"
      ],
      "text/plain": [
       "                  founded  presence_world  presence_russia     plans\n",
       "founded          1.000000       -0.141395        -0.025510  0.033686\n",
       "presence_world  -0.141395        1.000000         0.084813 -0.001365\n",
       "presence_russia -0.025510        0.084813         1.000000  0.257431\n",
       "plans            0.033686       -0.001365         0.257431  1.000000"
      ]
     },
     "execution_count": 401,
     "metadata": {},
     "output_type": "execute_result"
    }
   ],
   "source": [
    "corr_mat = data.corr()\n",
    "corr_mat"
   ]
  },
  {
   "cell_type": "code",
   "execution_count": 402,
   "id": "e85d7428",
   "metadata": {},
   "outputs": [
    {
     "data": {
      "text/plain": [
       "<AxesSubplot: >"
      ]
     },
     "execution_count": 402,
     "metadata": {},
     "output_type": "execute_result"
    },
    {
     "data": {
      "image/png": "[encoded data removed]",
      "text/plain": [
       "<Figure size 640x480 with 2 Axes>"
      ]
     },
     "metadata": {},
     "output_type": "display_data"
    }
   ],
   "source": [
    "sns.heatmap(corr_mat, square=True, cmap='coolwarm')"
   ]
  },
  {
   "cell_type": "markdown",
   "id": "251bfd61",
   "metadata": {},
   "source": [
    "По матрице корреляции мы не наблюдаем достаточно больших значений, чтобы сделать вывод о том, что эти признаки взаимосвязаны."
   ]
  },
  {
   "cell_type": "markdown",
   "id": "be0cdb61",
   "metadata": {},
   "source": [
    "## Бинаризация категориальных признаков"
   ]
  },
  {
   "cell_type": "markdown",
   "id": "88c699d6",
   "metadata": {},
   "source": [
    "Мы имеем 3 категориальных признака: 'country_origin', 'domain' и 'price_category'."
   ]
  },
  {
   "cell_type": "markdown",
   "id": "7d87e17e",
   "metadata": {},
   "source": [
    "Вместо признака 'country_origin' будем использовать новые признаки 'Австралия', 'Австрия', 'Беларусь', 'Бельгия', 'Великобритания', 'Венгрия', 'Вьетнам', 'Германия', 'Греция', 'Грузия', 'Дания', 'Европа', 'Израиль', 'Индия', 'Испания', 'Италия', 'Канада', 'Китай', 'Корея', 'Латвия', 'Литва', 'Мексика', 'Молдавия', 'Нидерланды', 'Норвегия', 'Польша', 'Португалия', 'Россия', 'США', 'Сербия', 'Турция', 'Украина', 'Финляндия', 'Франция', 'Чехия', 'Швейцария', 'Швеция', 'Шри-Ланка', 'Южная Корея', 'Япония'"
   ]
  },
  {
   "cell_type": "code",
   "execution_count": 403,
   "id": "9d46e095",
   "metadata": {},
   "outputs": [
    {
     "data": {
      "text/html": [
       "<div>\n",
       "<style scoped>\n",
       "    .dataframe tbody tr th:only-of-type {\n",
       "        vertical-align: middle;\n",
       "    }\n",
       "\n",
       "    .dataframe tbody tr th {\n",
       "        vertical-align: top;\n",
       "    }\n",
       "\n",
       "    .dataframe thead th {\n",
       "        text-align: right;\n",
       "    }\n",
       "</style>\n",
       "<table border=\"1\" class=\"dataframe\">\n",
       "  <thead>\n",
       "    <tr style=\"text-align: right;\">\n",
       "      <th></th>\n",
       "      <th>Австралия</th>\n",
       "      <th>Австрия</th>\n",
       "      <th>Беларусь</th>\n",
       "      <th>Бельгия</th>\n",
       "      <th>Великобритания</th>\n",
       "      <th>Венгрия</th>\n",
       "      <th>Вьетнам</th>\n",
       "      <th>Германия</th>\n",
       "      <th>Греция</th>\n",
       "      <th>Грузия</th>\n",
       "      <th>...</th>\n",
       "      <th>Турция</th>\n",
       "      <th>Украина</th>\n",
       "      <th>Финляндия</th>\n",
       "      <th>Франция</th>\n",
       "      <th>Чехия</th>\n",
       "      <th>Швейцария</th>\n",
       "      <th>Швеция</th>\n",
       "      <th>Шри-Ланка</th>\n",
       "      <th>Южная Корея</th>\n",
       "      <th>Япония</th>\n",
       "    </tr>\n",
       "  </thead>\n",
       "  <tbody>\n",
       "    <tr>\n",
       "      <th>0</th>\n",
       "      <td>0</td>\n",
       "      <td>0</td>\n",
       "      <td>0</td>\n",
       "      <td>0</td>\n",
       "      <td>0</td>\n",
       "      <td>0</td>\n",
       "      <td>0</td>\n",
       "      <td>0</td>\n",
       "      <td>0</td>\n",
       "      <td>0</td>\n",
       "      <td>...</td>\n",
       "      <td>0</td>\n",
       "      <td>0</td>\n",
       "      <td>0</td>\n",
       "      <td>0</td>\n",
       "      <td>0</td>\n",
       "      <td>0</td>\n",
       "      <td>0</td>\n",
       "      <td>0</td>\n",
       "      <td>0</td>\n",
       "      <td>0</td>\n",
       "    </tr>\n",
       "    <tr>\n",
       "      <th>1</th>\n",
       "      <td>0</td>\n",
       "      <td>0</td>\n",
       "      <td>0</td>\n",
       "      <td>0</td>\n",
       "      <td>0</td>\n",
       "      <td>0</td>\n",
       "      <td>0</td>\n",
       "      <td>0</td>\n",
       "      <td>0</td>\n",
       "      <td>0</td>\n",
       "      <td>...</td>\n",
       "      <td>0</td>\n",
       "      <td>0</td>\n",
       "      <td>0</td>\n",
       "      <td>0</td>\n",
       "      <td>0</td>\n",
       "      <td>0</td>\n",
       "      <td>0</td>\n",
       "      <td>0</td>\n",
       "      <td>0</td>\n",
       "      <td>0</td>\n",
       "    </tr>\n",
       "    <tr>\n",
       "      <th>3</th>\n",
       "      <td>0</td>\n",
       "      <td>0</td>\n",
       "      <td>0</td>\n",
       "      <td>0</td>\n",
       "      <td>0</td>\n",
       "      <td>0</td>\n",
       "      <td>0</td>\n",
       "      <td>0</td>\n",
       "      <td>0</td>\n",
       "      <td>0</td>\n",
       "      <td>...</td>\n",
       "      <td>0</td>\n",
       "      <td>0</td>\n",
       "      <td>0</td>\n",
       "      <td>0</td>\n",
       "      <td>0</td>\n",
       "      <td>0</td>\n",
       "      <td>0</td>\n",
       "      <td>0</td>\n",
       "      <td>0</td>\n",
       "      <td>0</td>\n",
       "    </tr>\n",
       "    <tr>\n",
       "      <th>4</th>\n",
       "      <td>0</td>\n",
       "      <td>0</td>\n",
       "      <td>0</td>\n",
       "      <td>0</td>\n",
       "      <td>0</td>\n",
       "      <td>0</td>\n",
       "      <td>0</td>\n",
       "      <td>0</td>\n",
       "      <td>0</td>\n",
       "      <td>0</td>\n",
       "      <td>...</td>\n",
       "      <td>0</td>\n",
       "      <td>0</td>\n",
       "      <td>0</td>\n",
       "      <td>0</td>\n",
       "      <td>0</td>\n",
       "      <td>0</td>\n",
       "      <td>0</td>\n",
       "      <td>0</td>\n",
       "      <td>0</td>\n",
       "      <td>0</td>\n",
       "    </tr>\n",
       "    <tr>\n",
       "      <th>5</th>\n",
       "      <td>0</td>\n",
       "      <td>0</td>\n",
       "      <td>0</td>\n",
       "      <td>0</td>\n",
       "      <td>0</td>\n",
       "      <td>0</td>\n",
       "      <td>0</td>\n",
       "      <td>0</td>\n",
       "      <td>0</td>\n",
       "      <td>0</td>\n",
       "      <td>...</td>\n",
       "      <td>0</td>\n",
       "      <td>0</td>\n",
       "      <td>0</td>\n",
       "      <td>0</td>\n",
       "      <td>0</td>\n",
       "      <td>0</td>\n",
       "      <td>0</td>\n",
       "      <td>0</td>\n",
       "      <td>0</td>\n",
       "      <td>0</td>\n",
       "    </tr>\n",
       "  </tbody>\n",
       "</table>\n",
       "<p>5 rows × 40 columns</p>\n",
       "</div>"
      ],
      "text/plain": [
       "   Австралия  Австрия  Беларусь  Бельгия  Великобритания  Венгрия  Вьетнам  \\\n",
       "0          0        0         0        0               0        0        0   \n",
       "1          0        0         0        0               0        0        0   \n",
       "3          0        0         0        0               0        0        0   \n",
       "4          0        0         0        0               0        0        0   \n",
       "5          0        0         0        0               0        0        0   \n",
       "\n",
       "   Германия  Греция  Грузия  ...  Турция  Украина  Финляндия  Франция  Чехия  \\\n",
       "0         0       0       0  ...       0        0          0        0      0   \n",
       "1         0       0       0  ...       0        0          0        0      0   \n",
       "3         0       0       0  ...       0        0          0        0      0   \n",
       "4         0       0       0  ...       0        0          0        0      0   \n",
       "5         0       0       0  ...       0        0          0        0      0   \n",
       "\n",
       "   Швейцария  Швеция  Шри-Ланка  Южная Корея  Япония  \n",
       "0          0       0          0            0       0  \n",
       "1          0       0          0            0       0  \n",
       "3          0       0          0            0       0  \n",
       "4          0       0          0            0       0  \n",
       "5          0       0          0            0       0  \n",
       "\n",
       "[5 rows x 40 columns]"
      ]
     },
     "execution_count": 403,
     "metadata": {},
     "output_type": "execute_result"
    }
   ],
   "source": [
    "country_origin_dummies = pd.get_dummies(data['country_origin'])\n",
    "country_origin_dummies.head()"
   ]
  },
  {
   "cell_type": "markdown",
   "id": "2a966d8b",
   "metadata": {},
   "source": [
    "Вместо признака 'domain' будем использовать новые признаки 'Авто и товары для авто', 'Аксессуары', 'Аптека', 'Банк, кредит, заем', 'Бытовая техника', 'Вендинг', 'Вино и алкогольные напитки', 'Все для дома', 'Здоровье, лечение, профилактика', 'Зоотовары и услуги', 'Кафе, ресторан', 'Книги и печатные издания', 'Компьютеры, комплектующие, аксессуары', 'Красота', 'Магазин для Взрослых', 'Мебель', 'Образование / обучение', 'Обувь', 'Одежда', 'Оптика', 'Парфюмерия и Косметика', 'Продукты питания', 'Развлечения', 'Ремонт и строительство', 'Сигары, табак, аксессуары', 'Сладости и Шоколад', 'Сотовые телефоны, электроника, фото', 'Спорт', 'Ставки и лотереи', 'Сувениры и Подарки', 'Товары и услуги для детей', 'Туризм, путешествия', 'Услуги для бизнеса (b2b)', 'Услуги населению', 'Хобби и увлечения', 'Цветы и растения', 'Чай, кофе, аксессуары', 'Шоколадный бутик', 'Ювелирные магазины'"
   ]
  },
  {
   "cell_type": "code",
   "execution_count": 404,
   "id": "4154f19b",
   "metadata": {},
   "outputs": [
    {
     "data": {
      "text/html": [
       "<div>\n",
       "<style scoped>\n",
       "    .dataframe tbody tr th:only-of-type {\n",
       "        vertical-align: middle;\n",
       "    }\n",
       "\n",
       "    .dataframe tbody tr th {\n",
       "        vertical-align: top;\n",
       "    }\n",
       "\n",
       "    .dataframe thead th {\n",
       "        text-align: right;\n",
       "    }\n",
       "</style>\n",
       "<table border=\"1\" class=\"dataframe\">\n",
       "  <thead>\n",
       "    <tr style=\"text-align: right;\">\n",
       "      <th></th>\n",
       "      <th>Авто и товары для авто</th>\n",
       "      <th>Аксессуары</th>\n",
       "      <th>Аптека</th>\n",
       "      <th>Банк, кредит, заем</th>\n",
       "      <th>Бытовая техника</th>\n",
       "      <th>Вендинг</th>\n",
       "      <th>Вино и алкогольные напитки</th>\n",
       "      <th>Все для дома</th>\n",
       "      <th>Здоровье, лечение, профилактика</th>\n",
       "      <th>Зоотовары и услуги</th>\n",
       "      <th>...</th>\n",
       "      <th>Сувениры и Подарки</th>\n",
       "      <th>Товары и услуги для детей</th>\n",
       "      <th>Туризм, путешествия</th>\n",
       "      <th>Услуги для бизнеса (b2b)</th>\n",
       "      <th>Услуги населению</th>\n",
       "      <th>Хобби и увлечения</th>\n",
       "      <th>Цветы и растения</th>\n",
       "      <th>Чай, кофе, аксессуары</th>\n",
       "      <th>Шоколадный бутик</th>\n",
       "      <th>Ювелирные магазины</th>\n",
       "    </tr>\n",
       "  </thead>\n",
       "  <tbody>\n",
       "    <tr>\n",
       "      <th>0</th>\n",
       "      <td>0</td>\n",
       "      <td>0</td>\n",
       "      <td>0</td>\n",
       "      <td>0</td>\n",
       "      <td>0</td>\n",
       "      <td>1</td>\n",
       "      <td>0</td>\n",
       "      <td>0</td>\n",
       "      <td>0</td>\n",
       "      <td>0</td>\n",
       "      <td>...</td>\n",
       "      <td>0</td>\n",
       "      <td>0</td>\n",
       "      <td>0</td>\n",
       "      <td>0</td>\n",
       "      <td>0</td>\n",
       "      <td>0</td>\n",
       "      <td>0</td>\n",
       "      <td>0</td>\n",
       "      <td>0</td>\n",
       "      <td>0</td>\n",
       "    </tr>\n",
       "    <tr>\n",
       "      <th>1</th>\n",
       "      <td>0</td>\n",
       "      <td>0</td>\n",
       "      <td>0</td>\n",
       "      <td>0</td>\n",
       "      <td>0</td>\n",
       "      <td>0</td>\n",
       "      <td>0</td>\n",
       "      <td>0</td>\n",
       "      <td>0</td>\n",
       "      <td>0</td>\n",
       "      <td>...</td>\n",
       "      <td>0</td>\n",
       "      <td>0</td>\n",
       "      <td>0</td>\n",
       "      <td>0</td>\n",
       "      <td>0</td>\n",
       "      <td>0</td>\n",
       "      <td>0</td>\n",
       "      <td>0</td>\n",
       "      <td>0</td>\n",
       "      <td>0</td>\n",
       "    </tr>\n",
       "    <tr>\n",
       "      <th>3</th>\n",
       "      <td>0</td>\n",
       "      <td>0</td>\n",
       "      <td>0</td>\n",
       "      <td>0</td>\n",
       "      <td>0</td>\n",
       "      <td>0</td>\n",
       "      <td>0</td>\n",
       "      <td>0</td>\n",
       "      <td>0</td>\n",
       "      <td>0</td>\n",
       "      <td>...</td>\n",
       "      <td>0</td>\n",
       "      <td>0</td>\n",
       "      <td>0</td>\n",
       "      <td>0</td>\n",
       "      <td>0</td>\n",
       "      <td>0</td>\n",
       "      <td>0</td>\n",
       "      <td>0</td>\n",
       "      <td>0</td>\n",
       "      <td>0</td>\n",
       "    </tr>\n",
       "    <tr>\n",
       "      <th>4</th>\n",
       "      <td>0</td>\n",
       "      <td>0</td>\n",
       "      <td>0</td>\n",
       "      <td>0</td>\n",
       "      <td>0</td>\n",
       "      <td>0</td>\n",
       "      <td>0</td>\n",
       "      <td>0</td>\n",
       "      <td>0</td>\n",
       "      <td>0</td>\n",
       "      <td>...</td>\n",
       "      <td>0</td>\n",
       "      <td>0</td>\n",
       "      <td>0</td>\n",
       "      <td>0</td>\n",
       "      <td>0</td>\n",
       "      <td>0</td>\n",
       "      <td>0</td>\n",
       "      <td>0</td>\n",
       "      <td>0</td>\n",
       "      <td>0</td>\n",
       "    </tr>\n",
       "    <tr>\n",
       "      <th>5</th>\n",
       "      <td>0</td>\n",
       "      <td>0</td>\n",
       "      <td>0</td>\n",
       "      <td>0</td>\n",
       "      <td>0</td>\n",
       "      <td>0</td>\n",
       "      <td>0</td>\n",
       "      <td>0</td>\n",
       "      <td>0</td>\n",
       "      <td>0</td>\n",
       "      <td>...</td>\n",
       "      <td>0</td>\n",
       "      <td>0</td>\n",
       "      <td>0</td>\n",
       "      <td>0</td>\n",
       "      <td>0</td>\n",
       "      <td>0</td>\n",
       "      <td>0</td>\n",
       "      <td>0</td>\n",
       "      <td>0</td>\n",
       "      <td>0</td>\n",
       "    </tr>\n",
       "  </tbody>\n",
       "</table>\n",
       "<p>5 rows × 39 columns</p>\n",
       "</div>"
      ],
      "text/plain": [
       "   Авто и товары для авто  Аксессуары  Аптека  Банк, кредит, заем  \\\n",
       "0                       0           0       0                   0   \n",
       "1                       0           0       0                   0   \n",
       "3                       0           0       0                   0   \n",
       "4                       0           0       0                   0   \n",
       "5                       0           0       0                   0   \n",
       "\n",
       "   Бытовая техника  Вендинг  Вино и алкогольные напитки  Все для дома  \\\n",
       "0                0        1                           0             0   \n",
       "1                0        0                           0             0   \n",
       "3                0        0                           0             0   \n",
       "4                0        0                           0             0   \n",
       "5                0        0                           0             0   \n",
       "\n",
       "   Здоровье, лечение, профилактика  Зоотовары и услуги  ...  \\\n",
       "0                                0                   0  ...   \n",
       "1                                0                   0  ...   \n",
       "3                                0                   0  ...   \n",
       "4                                0                   0  ...   \n",
       "5                                0                   0  ...   \n",
       "\n",
       "   Сувениры и Подарки  Товары и услуги для детей  Туризм, путешествия  \\\n",
       "0                   0                          0                    0   \n",
       "1                   0                          0                    0   \n",
       "3                   0                          0                    0   \n",
       "4                   0                          0                    0   \n",
       "5                   0                          0                    0   \n",
       "\n",
       "   Услуги для бизнеса (b2b)  Услуги населению  Хобби и увлечения  \\\n",
       "0                         0                 0                  0   \n",
       "1                         0                 0                  0   \n",
       "3                         0                 0                  0   \n",
       "4                         0                 0                  0   \n",
       "5                         0                 0                  0   \n",
       "\n",
       "   Цветы и растения  Чай, кофе, аксессуары  Шоколадный бутик  \\\n",
       "0                 0                      0                 0   \n",
       "1                 0                      0                 0   \n",
       "3                 0                      0                 0   \n",
       "4                 0                      0                 0   \n",
       "5                 0                      0                 0   \n",
       "\n",
       "   Ювелирные магазины  \n",
       "0                   0  \n",
       "1                   0  \n",
       "3                   0  \n",
       "4                   0  \n",
       "5                   0  \n",
       "\n",
       "[5 rows x 39 columns]"
      ]
     },
     "execution_count": 404,
     "metadata": {},
     "output_type": "execute_result"
    }
   ],
   "source": [
    "domain_dummies = pd.get_dummies(data['domain'])\n",
    "domain_dummies.head()"
   ]
  },
  {
   "cell_type": "markdown",
   "id": "67df5d39",
   "metadata": {},
   "source": [
    "Вместо строковых значений признака 'price_category' будем использовать числовые:\n",
    "+ 0 - 'Неизвестно',\n",
    "+ 1 - 'Ниже среднего',\n",
    "+ 2 - 'Средний',\n",
    "+ 3 - 'Выше среднего', \n",
    "+ 4 - 'Люкс / Премиум'"
   ]
  },
  {
   "cell_type": "code",
   "execution_count": 405,
   "id": "59c7f350",
   "metadata": {},
   "outputs": [],
   "source": [
    "data['price_category'] = data['price_category'].astype('object')\n",
    "\n",
    "data.loc[(data['price_category'] == 'Неизвестно'), 'price_category'] = 0\n",
    "data.loc[(data['price_category'] == 'Ниже среднего'), 'price_category'] = 1\n",
    "data.loc[(data['price_category'] == 'Средний'), 'price_category'] = 2\n",
    "data.loc[(data['price_category'] == 'Выше среднего'), 'price_category'] = 3\n",
    "data.loc[(data['price_category'] == 'Люкс / Премиум'), 'price_category'] = 4"
   ]
  },
  {
   "cell_type": "markdown",
   "id": "a94daf5f",
   "metadata": {},
   "source": [
    "Добавим эти dummy-столбцы к таблице и удалим столбцы 'country_origin', 'domain' и 'price_category'"
   ]
  },
  {
   "cell_type": "code",
   "execution_count": 406,
   "id": "3da65cb1",
   "metadata": {},
   "outputs": [
    {
     "data": {
      "text/html": [
       "<div>\n",
       "<style scoped>\n",
       "    .dataframe tbody tr th:only-of-type {\n",
       "        vertical-align: middle;\n",
       "    }\n",
       "\n",
       "    .dataframe tbody tr th {\n",
       "        vertical-align: top;\n",
       "    }\n",
       "\n",
       "    .dataframe thead th {\n",
       "        text-align: right;\n",
       "    }\n",
       "</style>\n",
       "<table border=\"1\" class=\"dataframe\">\n",
       "  <thead>\n",
       "    <tr style=\"text-align: right;\">\n",
       "      <th></th>\n",
       "      <th>price_category</th>\n",
       "      <th>founded</th>\n",
       "      <th>presence_world</th>\n",
       "      <th>presence_russia</th>\n",
       "      <th>plans</th>\n",
       "      <th>Авто и товары для авто</th>\n",
       "      <th>Аксессуары</th>\n",
       "      <th>Аптека</th>\n",
       "      <th>Банк, кредит, заем</th>\n",
       "      <th>Бытовая техника</th>\n",
       "      <th>...</th>\n",
       "      <th>Турция</th>\n",
       "      <th>Украина</th>\n",
       "      <th>Финляндия</th>\n",
       "      <th>Франция</th>\n",
       "      <th>Чехия</th>\n",
       "      <th>Швейцария</th>\n",
       "      <th>Швеция</th>\n",
       "      <th>Шри-Ланка</th>\n",
       "      <th>Южная Корея</th>\n",
       "      <th>Япония</th>\n",
       "    </tr>\n",
       "  </thead>\n",
       "  <tbody>\n",
       "    <tr>\n",
       "      <th>0</th>\n",
       "      <td>2</td>\n",
       "      <td>2018.0</td>\n",
       "      <td>60000.0</td>\n",
       "      <td>250.0</td>\n",
       "      <td>10.0</td>\n",
       "      <td>0</td>\n",
       "      <td>0</td>\n",
       "      <td>0</td>\n",
       "      <td>0</td>\n",
       "      <td>0</td>\n",
       "      <td>...</td>\n",
       "      <td>0</td>\n",
       "      <td>0</td>\n",
       "      <td>0</td>\n",
       "      <td>0</td>\n",
       "      <td>0</td>\n",
       "      <td>0</td>\n",
       "      <td>0</td>\n",
       "      <td>0</td>\n",
       "      <td>0</td>\n",
       "      <td>0</td>\n",
       "    </tr>\n",
       "    <tr>\n",
       "      <th>1</th>\n",
       "      <td>2</td>\n",
       "      <td>1853.0</td>\n",
       "      <td>56500.0</td>\n",
       "      <td>263.0</td>\n",
       "      <td>10.0</td>\n",
       "      <td>0</td>\n",
       "      <td>0</td>\n",
       "      <td>0</td>\n",
       "      <td>0</td>\n",
       "      <td>0</td>\n",
       "      <td>...</td>\n",
       "      <td>0</td>\n",
       "      <td>0</td>\n",
       "      <td>0</td>\n",
       "      <td>0</td>\n",
       "      <td>0</td>\n",
       "      <td>0</td>\n",
       "      <td>0</td>\n",
       "      <td>0</td>\n",
       "      <td>0</td>\n",
       "      <td>0</td>\n",
       "    </tr>\n",
       "    <tr>\n",
       "      <th>3</th>\n",
       "      <td>1</td>\n",
       "      <td>1965.0</td>\n",
       "      <td>44000.0</td>\n",
       "      <td>700.0</td>\n",
       "      <td>10.0</td>\n",
       "      <td>0</td>\n",
       "      <td>0</td>\n",
       "      <td>0</td>\n",
       "      <td>0</td>\n",
       "      <td>0</td>\n",
       "      <td>...</td>\n",
       "      <td>0</td>\n",
       "      <td>0</td>\n",
       "      <td>0</td>\n",
       "      <td>0</td>\n",
       "      <td>0</td>\n",
       "      <td>0</td>\n",
       "      <td>0</td>\n",
       "      <td>0</td>\n",
       "      <td>0</td>\n",
       "      <td>0</td>\n",
       "    </tr>\n",
       "    <tr>\n",
       "      <th>4</th>\n",
       "      <td>2</td>\n",
       "      <td>1958.0</td>\n",
       "      <td>34000.0</td>\n",
       "      <td>52.0</td>\n",
       "      <td>10.0</td>\n",
       "      <td>0</td>\n",
       "      <td>0</td>\n",
       "      <td>0</td>\n",
       "      <td>0</td>\n",
       "      <td>0</td>\n",
       "      <td>...</td>\n",
       "      <td>0</td>\n",
       "      <td>0</td>\n",
       "      <td>0</td>\n",
       "      <td>0</td>\n",
       "      <td>0</td>\n",
       "      <td>0</td>\n",
       "      <td>0</td>\n",
       "      <td>0</td>\n",
       "      <td>0</td>\n",
       "      <td>0</td>\n",
       "    </tr>\n",
       "    <tr>\n",
       "      <th>5</th>\n",
       "      <td>1</td>\n",
       "      <td>1990.0</td>\n",
       "      <td>30000.0</td>\n",
       "      <td>553.0</td>\n",
       "      <td>10.0</td>\n",
       "      <td>0</td>\n",
       "      <td>0</td>\n",
       "      <td>0</td>\n",
       "      <td>0</td>\n",
       "      <td>0</td>\n",
       "      <td>...</td>\n",
       "      <td>0</td>\n",
       "      <td>0</td>\n",
       "      <td>0</td>\n",
       "      <td>0</td>\n",
       "      <td>0</td>\n",
       "      <td>0</td>\n",
       "      <td>0</td>\n",
       "      <td>0</td>\n",
       "      <td>0</td>\n",
       "      <td>0</td>\n",
       "    </tr>\n",
       "  </tbody>\n",
       "</table>\n",
       "<p>5 rows × 84 columns</p>\n",
       "</div>"
      ],
      "text/plain": [
       "  price_category  founded  presence_world  presence_russia  plans  \\\n",
       "0              2   2018.0         60000.0            250.0   10.0   \n",
       "1              2   1853.0         56500.0            263.0   10.0   \n",
       "3              1   1965.0         44000.0            700.0   10.0   \n",
       "4              2   1958.0         34000.0             52.0   10.0   \n",
       "5              1   1990.0         30000.0            553.0   10.0   \n",
       "\n",
       "   Авто и товары для авто  Аксессуары  Аптека  Банк, кредит, заем  \\\n",
       "0                       0           0       0                   0   \n",
       "1                       0           0       0                   0   \n",
       "3                       0           0       0                   0   \n",
       "4                       0           0       0                   0   \n",
       "5                       0           0       0                   0   \n",
       "\n",
       "   Бытовая техника  ...  Турция  Украина  Финляндия  Франция  Чехия  \\\n",
       "0                0  ...       0        0          0        0      0   \n",
       "1                0  ...       0        0          0        0      0   \n",
       "3                0  ...       0        0          0        0      0   \n",
       "4                0  ...       0        0          0        0      0   \n",
       "5                0  ...       0        0          0        0      0   \n",
       "\n",
       "   Швейцария  Швеция  Шри-Ланка  Южная Корея  Япония  \n",
       "0          0       0          0            0       0  \n",
       "1          0       0          0            0       0  \n",
       "3          0       0          0            0       0  \n",
       "4          0       0          0            0       0  \n",
       "5          0       0          0            0       0  \n",
       "\n",
       "[5 rows x 84 columns]"
      ]
     },
     "execution_count": 406,
     "metadata": {},
     "output_type": "execute_result"
    }
   ],
   "source": [
    "data = pd.concat((data, domain_dummies), axis = 1)\n",
    "data = pd.concat((data, country_origin_dummies), axis = 1)\n",
    "\n",
    "data = data.drop(['country_origin', 'domain'], axis = 1)\n",
    "data.head()"
   ]
  },
  {
   "cell_type": "markdown",
   "id": "52879d1b",
   "metadata": {},
   "source": [
    "## Нормализация количественных признаков"
   ]
  },
  {
   "cell_type": "markdown",
   "id": "7940e765",
   "metadata": {},
   "source": [
    "Для нормализации количественных признаков приведём каждый такой признак к нулевому среднему и единичному среднеквадратичному отклонению"
   ]
  },
  {
   "cell_type": "code",
   "execution_count": 407,
   "id": "d4a59198",
   "metadata": {},
   "outputs": [
    {
     "data": {
      "text/html": [
       "<div>\n",
       "<style scoped>\n",
       "    .dataframe tbody tr th:only-of-type {\n",
       "        vertical-align: middle;\n",
       "    }\n",
       "\n",
       "    .dataframe tbody tr th {\n",
       "        vertical-align: top;\n",
       "    }\n",
       "\n",
       "    .dataframe thead th {\n",
       "        text-align: right;\n",
       "    }\n",
       "</style>\n",
       "<table border=\"1\" class=\"dataframe\">\n",
       "  <thead>\n",
       "    <tr style=\"text-align: right;\">\n",
       "      <th></th>\n",
       "      <th>founded</th>\n",
       "      <th>presence_world</th>\n",
       "      <th>presence_russia</th>\n",
       "      <th>plans</th>\n",
       "      <th>Авто и товары для авто</th>\n",
       "      <th>Аксессуары</th>\n",
       "      <th>Аптека</th>\n",
       "      <th>Банк, кредит, заем</th>\n",
       "      <th>Бытовая техника</th>\n",
       "      <th>Вендинг</th>\n",
       "      <th>...</th>\n",
       "      <th>Турция</th>\n",
       "      <th>Украина</th>\n",
       "      <th>Финляндия</th>\n",
       "      <th>Франция</th>\n",
       "      <th>Чехия</th>\n",
       "      <th>Швейцария</th>\n",
       "      <th>Швеция</th>\n",
       "      <th>Шри-Ланка</th>\n",
       "      <th>Южная Корея</th>\n",
       "      <th>Япония</th>\n",
       "    </tr>\n",
       "  </thead>\n",
       "  <tbody>\n",
       "    <tr>\n",
       "      <th>count</th>\n",
       "      <td>2713.000000</td>\n",
       "      <td>2713.000000</td>\n",
       "      <td>2713.000000</td>\n",
       "      <td>2713.000000</td>\n",
       "      <td>2713.000000</td>\n",
       "      <td>2713.000000</td>\n",
       "      <td>2713.000000</td>\n",
       "      <td>2713.000000</td>\n",
       "      <td>2713.000000</td>\n",
       "      <td>2713.000000</td>\n",
       "      <td>...</td>\n",
       "      <td>2713.000000</td>\n",
       "      <td>2713.000000</td>\n",
       "      <td>2713.000000</td>\n",
       "      <td>2713.000000</td>\n",
       "      <td>2713.000000</td>\n",
       "      <td>2713.000000</td>\n",
       "      <td>2713.000000</td>\n",
       "      <td>2713.000000</td>\n",
       "      <td>2713.000000</td>\n",
       "      <td>2713.000000</td>\n",
       "    </tr>\n",
       "    <tr>\n",
       "      <th>mean</th>\n",
       "      <td>1998.234427</td>\n",
       "      <td>195.728345</td>\n",
       "      <td>83.419462</td>\n",
       "      <td>18.709915</td>\n",
       "      <td>0.015112</td>\n",
       "      <td>0.028013</td>\n",
       "      <td>0.020641</td>\n",
       "      <td>0.026170</td>\n",
       "      <td>0.010689</td>\n",
       "      <td>0.003686</td>\n",
       "      <td>...</td>\n",
       "      <td>0.006266</td>\n",
       "      <td>0.002212</td>\n",
       "      <td>0.002949</td>\n",
       "      <td>0.011795</td>\n",
       "      <td>0.000737</td>\n",
       "      <td>0.001843</td>\n",
       "      <td>0.003317</td>\n",
       "      <td>0.000737</td>\n",
       "      <td>0.000737</td>\n",
       "      <td>0.003317</td>\n",
       "    </tr>\n",
       "    <tr>\n",
       "      <th>std</th>\n",
       "      <td>22.539435</td>\n",
       "      <td>2129.633159</td>\n",
       "      <td>223.426264</td>\n",
       "      <td>82.125989</td>\n",
       "      <td>0.122023</td>\n",
       "      <td>0.165041</td>\n",
       "      <td>0.142207</td>\n",
       "      <td>0.159671</td>\n",
       "      <td>0.102854</td>\n",
       "      <td>0.060611</td>\n",
       "      <td>...</td>\n",
       "      <td>0.078925</td>\n",
       "      <td>0.046984</td>\n",
       "      <td>0.054232</td>\n",
       "      <td>0.107983</td>\n",
       "      <td>0.027146</td>\n",
       "      <td>0.042898</td>\n",
       "      <td>0.057512</td>\n",
       "      <td>0.027146</td>\n",
       "      <td>0.027146</td>\n",
       "      <td>0.057512</td>\n",
       "    </tr>\n",
       "    <tr>\n",
       "      <th>min</th>\n",
       "      <td>1748.000000</td>\n",
       "      <td>0.000000</td>\n",
       "      <td>1.000000</td>\n",
       "      <td>1.000000</td>\n",
       "      <td>0.000000</td>\n",
       "      <td>0.000000</td>\n",
       "      <td>0.000000</td>\n",
       "      <td>0.000000</td>\n",
       "      <td>0.000000</td>\n",
       "      <td>0.000000</td>\n",
       "      <td>...</td>\n",
       "      <td>0.000000</td>\n",
       "      <td>0.000000</td>\n",
       "      <td>0.000000</td>\n",
       "      <td>0.000000</td>\n",
       "      <td>0.000000</td>\n",
       "      <td>0.000000</td>\n",
       "      <td>0.000000</td>\n",
       "      <td>0.000000</td>\n",
       "      <td>0.000000</td>\n",
       "      <td>0.000000</td>\n",
       "    </tr>\n",
       "    <tr>\n",
       "      <th>25%</th>\n",
       "      <td>1996.000000</td>\n",
       "      <td>0.000000</td>\n",
       "      <td>8.000000</td>\n",
       "      <td>10.000000</td>\n",
       "      <td>0.000000</td>\n",
       "      <td>0.000000</td>\n",
       "      <td>0.000000</td>\n",
       "      <td>0.000000</td>\n",
       "      <td>0.000000</td>\n",
       "      <td>0.000000</td>\n",
       "      <td>...</td>\n",
       "      <td>0.000000</td>\n",
       "      <td>0.000000</td>\n",
       "      <td>0.000000</td>\n",
       "      <td>0.000000</td>\n",
       "      <td>0.000000</td>\n",
       "      <td>0.000000</td>\n",
       "      <td>0.000000</td>\n",
       "      <td>0.000000</td>\n",
       "      <td>0.000000</td>\n",
       "      <td>0.000000</td>\n",
       "    </tr>\n",
       "    <tr>\n",
       "      <th>50%</th>\n",
       "      <td>2002.000000</td>\n",
       "      <td>0.000000</td>\n",
       "      <td>21.000000</td>\n",
       "      <td>10.000000</td>\n",
       "      <td>0.000000</td>\n",
       "      <td>0.000000</td>\n",
       "      <td>0.000000</td>\n",
       "      <td>0.000000</td>\n",
       "      <td>0.000000</td>\n",
       "      <td>0.000000</td>\n",
       "      <td>...</td>\n",
       "      <td>0.000000</td>\n",
       "      <td>0.000000</td>\n",
       "      <td>0.000000</td>\n",
       "      <td>0.000000</td>\n",
       "      <td>0.000000</td>\n",
       "      <td>0.000000</td>\n",
       "      <td>0.000000</td>\n",
       "      <td>0.000000</td>\n",
       "      <td>0.000000</td>\n",
       "      <td>0.000000</td>\n",
       "    </tr>\n",
       "    <tr>\n",
       "      <th>75%</th>\n",
       "      <td>2009.000000</td>\n",
       "      <td>15.000000</td>\n",
       "      <td>60.000000</td>\n",
       "      <td>10.000000</td>\n",
       "      <td>0.000000</td>\n",
       "      <td>0.000000</td>\n",
       "      <td>0.000000</td>\n",
       "      <td>0.000000</td>\n",
       "      <td>0.000000</td>\n",
       "      <td>0.000000</td>\n",
       "      <td>...</td>\n",
       "      <td>0.000000</td>\n",
       "      <td>0.000000</td>\n",
       "      <td>0.000000</td>\n",
       "      <td>0.000000</td>\n",
       "      <td>0.000000</td>\n",
       "      <td>0.000000</td>\n",
       "      <td>0.000000</td>\n",
       "      <td>0.000000</td>\n",
       "      <td>0.000000</td>\n",
       "      <td>0.000000</td>\n",
       "    </tr>\n",
       "    <tr>\n",
       "      <th>max</th>\n",
       "      <td>2020.000000</td>\n",
       "      <td>60000.000000</td>\n",
       "      <td>3000.000000</td>\n",
       "      <td>2000.000000</td>\n",
       "      <td>1.000000</td>\n",
       "      <td>1.000000</td>\n",
       "      <td>1.000000</td>\n",
       "      <td>1.000000</td>\n",
       "      <td>1.000000</td>\n",
       "      <td>1.000000</td>\n",
       "      <td>...</td>\n",
       "      <td>1.000000</td>\n",
       "      <td>1.000000</td>\n",
       "      <td>1.000000</td>\n",
       "      <td>1.000000</td>\n",
       "      <td>1.000000</td>\n",
       "      <td>1.000000</td>\n",
       "      <td>1.000000</td>\n",
       "      <td>1.000000</td>\n",
       "      <td>1.000000</td>\n",
       "      <td>1.000000</td>\n",
       "    </tr>\n",
       "  </tbody>\n",
       "</table>\n",
       "<p>8 rows × 83 columns</p>\n",
       "</div>"
      ],
      "text/plain": [
       "           founded  presence_world  presence_russia        plans  \\\n",
       "count  2713.000000     2713.000000      2713.000000  2713.000000   \n",
       "mean   1998.234427      195.728345        83.419462    18.709915   \n",
       "std      22.539435     2129.633159       223.426264    82.125989   \n",
       "min    1748.000000        0.000000         1.000000     1.000000   \n",
       "25%    1996.000000        0.000000         8.000000    10.000000   \n",
       "50%    2002.000000        0.000000        21.000000    10.000000   \n",
       "75%    2009.000000       15.000000        60.000000    10.000000   \n",
       "max    2020.000000    60000.000000      3000.000000  2000.000000   \n",
       "\n",
       "       Авто и товары для авто   Аксессуары       Аптека  Банк, кредит, заем  \\\n",
       "count             2713.000000  2713.000000  2713.000000         2713.000000   \n",
       "mean                 0.015112     0.028013     0.020641            0.026170   \n",
       "std                  0.122023     0.165041     0.142207            0.159671   \n",
       "min                  0.000000     0.000000     0.000000            0.000000   \n",
       "25%                  0.000000     0.000000     0.000000            0.000000   \n",
       "50%                  0.000000     0.000000     0.000000            0.000000   \n",
       "75%                  0.000000     0.000000     0.000000            0.000000   \n",
       "max                  1.000000     1.000000     1.000000            1.000000   \n",
       "\n",
       "       Бытовая техника      Вендинг  ...       Турция      Украина  \\\n",
       "count      2713.000000  2713.000000  ...  2713.000000  2713.000000   \n",
       "mean          0.010689     0.003686  ...     0.006266     0.002212   \n",
       "std           0.102854     0.060611  ...     0.078925     0.046984   \n",
       "min           0.000000     0.000000  ...     0.000000     0.000000   \n",
       "25%           0.000000     0.000000  ...     0.000000     0.000000   \n",
       "50%           0.000000     0.000000  ...     0.000000     0.000000   \n",
       "75%           0.000000     0.000000  ...     0.000000     0.000000   \n",
       "max           1.000000     1.000000  ...     1.000000     1.000000   \n",
       "\n",
       "         Финляндия      Франция        Чехия    Швейцария       Швеция  \\\n",
       "count  2713.000000  2713.000000  2713.000000  2713.000000  2713.000000   \n",
       "mean      0.002949     0.011795     0.000737     0.001843     0.003317   \n",
       "std       0.054232     0.107983     0.027146     0.042898     0.057512   \n",
       "min       0.000000     0.000000     0.000000     0.000000     0.000000   \n",
       "25%       0.000000     0.000000     0.000000     0.000000     0.000000   \n",
       "50%       0.000000     0.000000     0.000000     0.000000     0.000000   \n",
       "75%       0.000000     0.000000     0.000000     0.000000     0.000000   \n",
       "max       1.000000     1.000000     1.000000     1.000000     1.000000   \n",
       "\n",
       "         Шри-Ланка  Южная Корея       Япония  \n",
       "count  2713.000000  2713.000000  2713.000000  \n",
       "mean      0.000737     0.000737     0.003317  \n",
       "std       0.027146     0.027146     0.057512  \n",
       "min       0.000000     0.000000     0.000000  \n",
       "25%       0.000000     0.000000     0.000000  \n",
       "50%       0.000000     0.000000     0.000000  \n",
       "75%       0.000000     0.000000     0.000000  \n",
       "max       1.000000     1.000000     1.000000  \n",
       "\n",
       "[8 rows x 83 columns]"
      ]
     },
     "execution_count": 407,
     "metadata": {},
     "output_type": "execute_result"
    }
   ],
   "source": [
    "numerical_columns = [c for c in data.columns if data[c].dtype.name != 'object']\n",
    "data_norm = data[numerical_columns]\n",
    "data_norm.describe()"
   ]
  },
  {
   "cell_type": "code",
   "execution_count": 408,
   "id": "49295e42",
   "metadata": {},
   "outputs": [],
   "source": [
    "data_norm = (data - data_norm.mean(axis = 0))/data_norm.std(axis = 0)"
   ]
  },
  {
   "cell_type": "code",
   "execution_count": 409,
   "id": "8f5016be",
   "metadata": {},
   "outputs": [
    {
     "data": {
      "text/html": [
       "<div>\n",
       "<style scoped>\n",
       "    .dataframe tbody tr th:only-of-type {\n",
       "        vertical-align: middle;\n",
       "    }\n",
       "\n",
       "    .dataframe tbody tr th {\n",
       "        vertical-align: top;\n",
       "    }\n",
       "\n",
       "    .dataframe thead th {\n",
       "        text-align: right;\n",
       "    }\n",
       "</style>\n",
       "<table border=\"1\" class=\"dataframe\">\n",
       "  <thead>\n",
       "    <tr style=\"text-align: right;\">\n",
       "      <th></th>\n",
       "      <th>founded</th>\n",
       "      <th>plans</th>\n",
       "      <th>presence_russia</th>\n",
       "      <th>presence_world</th>\n",
       "      <th>Австралия</th>\n",
       "      <th>Австрия</th>\n",
       "      <th>Авто и товары для авто</th>\n",
       "      <th>Аксессуары</th>\n",
       "      <th>Аптека</th>\n",
       "      <th>Банк, кредит, заем</th>\n",
       "      <th>...</th>\n",
       "      <th>Цветы и растения</th>\n",
       "      <th>Чай, кофе, аксессуары</th>\n",
       "      <th>Чехия</th>\n",
       "      <th>Швейцария</th>\n",
       "      <th>Швеция</th>\n",
       "      <th>Шоколадный бутик</th>\n",
       "      <th>Шри-Ланка</th>\n",
       "      <th>Ювелирные магазины</th>\n",
       "      <th>Южная Корея</th>\n",
       "      <th>Япония</th>\n",
       "    </tr>\n",
       "  </thead>\n",
       "  <tbody>\n",
       "    <tr>\n",
       "      <th>count</th>\n",
       "      <td>2.713000e+03</td>\n",
       "      <td>2.713000e+03</td>\n",
       "      <td>2.713000e+03</td>\n",
       "      <td>2713.000000</td>\n",
       "      <td>2.713000e+03</td>\n",
       "      <td>2.713000e+03</td>\n",
       "      <td>2.713000e+03</td>\n",
       "      <td>2.713000e+03</td>\n",
       "      <td>2.713000e+03</td>\n",
       "      <td>2.713000e+03</td>\n",
       "      <td>...</td>\n",
       "      <td>2.713000e+03</td>\n",
       "      <td>2.713000e+03</td>\n",
       "      <td>2.713000e+03</td>\n",
       "      <td>2.713000e+03</td>\n",
       "      <td>2.713000e+03</td>\n",
       "      <td>2713.000000</td>\n",
       "      <td>2713.000000</td>\n",
       "      <td>2.713000e+03</td>\n",
       "      <td>2713.000000</td>\n",
       "      <td>2.713000e+03</td>\n",
       "    </tr>\n",
       "    <tr>\n",
       "      <th>mean</th>\n",
       "      <td>1.110469e-15</td>\n",
       "      <td>1.571418e-17</td>\n",
       "      <td>2.749981e-17</td>\n",
       "      <td>0.000000</td>\n",
       "      <td>7.857089e-18</td>\n",
       "      <td>2.095224e-17</td>\n",
       "      <td>-3.404739e-17</td>\n",
       "      <td>-7.857089e-18</td>\n",
       "      <td>-1.309515e-17</td>\n",
       "      <td>2.095224e-17</td>\n",
       "      <td>...</td>\n",
       "      <td>7.857089e-18</td>\n",
       "      <td>4.583302e-18</td>\n",
       "      <td>6.547574e-18</td>\n",
       "      <td>-1.047612e-17</td>\n",
       "      <td>4.976156e-17</td>\n",
       "      <td>0.000000</td>\n",
       "      <td>0.000000</td>\n",
       "      <td>3.666641e-17</td>\n",
       "      <td>0.000000</td>\n",
       "      <td>3.928544e-17</td>\n",
       "    </tr>\n",
       "    <tr>\n",
       "      <th>std</th>\n",
       "      <td>1.000000e+00</td>\n",
       "      <td>1.000000e+00</td>\n",
       "      <td>1.000000e+00</td>\n",
       "      <td>1.000000</td>\n",
       "      <td>1.000000e+00</td>\n",
       "      <td>1.000000e+00</td>\n",
       "      <td>1.000000e+00</td>\n",
       "      <td>1.000000e+00</td>\n",
       "      <td>1.000000e+00</td>\n",
       "      <td>1.000000e+00</td>\n",
       "      <td>...</td>\n",
       "      <td>1.000000e+00</td>\n",
       "      <td>1.000000e+00</td>\n",
       "      <td>1.000000e+00</td>\n",
       "      <td>1.000000e+00</td>\n",
       "      <td>1.000000e+00</td>\n",
       "      <td>1.000000</td>\n",
       "      <td>1.000000</td>\n",
       "      <td>1.000000e+00</td>\n",
       "      <td>1.000000</td>\n",
       "      <td>1.000000e+00</td>\n",
       "    </tr>\n",
       "    <tr>\n",
       "      <th>min</th>\n",
       "      <td>-1.110207e+01</td>\n",
       "      <td>-2.156433e-01</td>\n",
       "      <td>-3.688889e-01</td>\n",
       "      <td>-0.091907</td>\n",
       "      <td>-3.841895e-02</td>\n",
       "      <td>-6.081307e-02</td>\n",
       "      <td>-1.238493e-01</td>\n",
       "      <td>-1.697351e-01</td>\n",
       "      <td>-1.451504e-01</td>\n",
       "      <td>-1.639014e-01</td>\n",
       "      <td>...</td>\n",
       "      <td>-7.939341e-02</td>\n",
       "      <td>-6.664204e-02</td>\n",
       "      <td>-2.715627e-02</td>\n",
       "      <td>-4.296162e-02</td>\n",
       "      <td>-5.768167e-02</td>\n",
       "      <td>-0.019199</td>\n",
       "      <td>-0.027156</td>\n",
       "      <td>-1.590972e-01</td>\n",
       "      <td>-0.027156</td>\n",
       "      <td>-5.768167e-02</td>\n",
       "    </tr>\n",
       "    <tr>\n",
       "      <th>25%</th>\n",
       "      <td>-9.913411e-02</td>\n",
       "      <td>-1.060555e-01</td>\n",
       "      <td>-3.375586e-01</td>\n",
       "      <td>-0.091907</td>\n",
       "      <td>-3.841895e-02</td>\n",
       "      <td>-6.081307e-02</td>\n",
       "      <td>-1.238493e-01</td>\n",
       "      <td>-1.697351e-01</td>\n",
       "      <td>-1.451504e-01</td>\n",
       "      <td>-1.639014e-01</td>\n",
       "      <td>...</td>\n",
       "      <td>-7.939341e-02</td>\n",
       "      <td>-6.664204e-02</td>\n",
       "      <td>-2.715627e-02</td>\n",
       "      <td>-4.296162e-02</td>\n",
       "      <td>-5.768167e-02</td>\n",
       "      <td>-0.019199</td>\n",
       "      <td>-0.027156</td>\n",
       "      <td>-1.590972e-01</td>\n",
       "      <td>-0.027156</td>\n",
       "      <td>-5.768167e-02</td>\n",
       "    </tr>\n",
       "    <tr>\n",
       "      <th>50%</th>\n",
       "      <td>1.670660e-01</td>\n",
       "      <td>-1.060555e-01</td>\n",
       "      <td>-2.793739e-01</td>\n",
       "      <td>-0.091907</td>\n",
       "      <td>-3.841895e-02</td>\n",
       "      <td>-6.081307e-02</td>\n",
       "      <td>-1.238493e-01</td>\n",
       "      <td>-1.697351e-01</td>\n",
       "      <td>-1.451504e-01</td>\n",
       "      <td>-1.639014e-01</td>\n",
       "      <td>...</td>\n",
       "      <td>-7.939341e-02</td>\n",
       "      <td>-6.664204e-02</td>\n",
       "      <td>-2.715627e-02</td>\n",
       "      <td>-4.296162e-02</td>\n",
       "      <td>-5.768167e-02</td>\n",
       "      <td>-0.019199</td>\n",
       "      <td>-0.027156</td>\n",
       "      <td>-1.590972e-01</td>\n",
       "      <td>-0.027156</td>\n",
       "      <td>-5.768167e-02</td>\n",
       "    </tr>\n",
       "    <tr>\n",
       "      <th>75%</th>\n",
       "      <td>4.776328e-01</td>\n",
       "      <td>-1.060555e-01</td>\n",
       "      <td>-1.048196e-01</td>\n",
       "      <td>-0.084864</td>\n",
       "      <td>-3.841895e-02</td>\n",
       "      <td>-6.081307e-02</td>\n",
       "      <td>-1.238493e-01</td>\n",
       "      <td>-1.697351e-01</td>\n",
       "      <td>-1.451504e-01</td>\n",
       "      <td>-1.639014e-01</td>\n",
       "      <td>...</td>\n",
       "      <td>-7.939341e-02</td>\n",
       "      <td>-6.664204e-02</td>\n",
       "      <td>-2.715627e-02</td>\n",
       "      <td>-4.296162e-02</td>\n",
       "      <td>-5.768167e-02</td>\n",
       "      <td>-0.019199</td>\n",
       "      <td>-0.027156</td>\n",
       "      <td>-1.590972e-01</td>\n",
       "      <td>-0.027156</td>\n",
       "      <td>-5.768167e-02</td>\n",
       "    </tr>\n",
       "    <tr>\n",
       "      <th>max</th>\n",
       "      <td>9.656663e-01</td>\n",
       "      <td>2.412501e+01</td>\n",
       "      <td>1.305388e+01</td>\n",
       "      <td>28.081959</td>\n",
       "      <td>2.601923e+01</td>\n",
       "      <td>1.643777e+01</td>\n",
       "      <td>8.071351e+00</td>\n",
       "      <td>5.889362e+00</td>\n",
       "      <td>6.886867e+00</td>\n",
       "      <td>6.098980e+00</td>\n",
       "      <td>...</td>\n",
       "      <td>1.259086e+01</td>\n",
       "      <td>1.500001e+01</td>\n",
       "      <td>3.681033e+01</td>\n",
       "      <td>2.326801e+01</td>\n",
       "      <td>1.733014e+01</td>\n",
       "      <td>52.067268</td>\n",
       "      <td>36.810330</td>\n",
       "      <td>6.283151e+00</td>\n",
       "      <td>36.810330</td>\n",
       "      <td>1.733014e+01</td>\n",
       "    </tr>\n",
       "  </tbody>\n",
       "</table>\n",
       "<p>8 rows × 83 columns</p>\n",
       "</div>"
      ],
      "text/plain": [
       "            founded         plans  presence_russia  presence_world  \\\n",
       "count  2.713000e+03  2.713000e+03     2.713000e+03     2713.000000   \n",
       "mean   1.110469e-15  1.571418e-17     2.749981e-17        0.000000   \n",
       "std    1.000000e+00  1.000000e+00     1.000000e+00        1.000000   \n",
       "min   -1.110207e+01 -2.156433e-01    -3.688889e-01       -0.091907   \n",
       "25%   -9.913411e-02 -1.060555e-01    -3.375586e-01       -0.091907   \n",
       "50%    1.670660e-01 -1.060555e-01    -2.793739e-01       -0.091907   \n",
       "75%    4.776328e-01 -1.060555e-01    -1.048196e-01       -0.084864   \n",
       "max    9.656663e-01  2.412501e+01     1.305388e+01       28.081959   \n",
       "\n",
       "          Австралия       Австрия  Авто и товары для авто    Аксессуары  \\\n",
       "count  2.713000e+03  2.713000e+03            2.713000e+03  2.713000e+03   \n",
       "mean   7.857089e-18  2.095224e-17           -3.404739e-17 -7.857089e-18   \n",
       "std    1.000000e+00  1.000000e+00            1.000000e+00  1.000000e+00   \n",
       "min   -3.841895e-02 -6.081307e-02           -1.238493e-01 -1.697351e-01   \n",
       "25%   -3.841895e-02 -6.081307e-02           -1.238493e-01 -1.697351e-01   \n",
       "50%   -3.841895e-02 -6.081307e-02           -1.238493e-01 -1.697351e-01   \n",
       "75%   -3.841895e-02 -6.081307e-02           -1.238493e-01 -1.697351e-01   \n",
       "max    2.601923e+01  1.643777e+01            8.071351e+00  5.889362e+00   \n",
       "\n",
       "             Аптека  Банк, кредит, заем  ...  Цветы и растения  \\\n",
       "count  2.713000e+03        2.713000e+03  ...      2.713000e+03   \n",
       "mean  -1.309515e-17        2.095224e-17  ...      7.857089e-18   \n",
       "std    1.000000e+00        1.000000e+00  ...      1.000000e+00   \n",
       "min   -1.451504e-01       -1.639014e-01  ...     -7.939341e-02   \n",
       "25%   -1.451504e-01       -1.639014e-01  ...     -7.939341e-02   \n",
       "50%   -1.451504e-01       -1.639014e-01  ...     -7.939341e-02   \n",
       "75%   -1.451504e-01       -1.639014e-01  ...     -7.939341e-02   \n",
       "max    6.886867e+00        6.098980e+00  ...      1.259086e+01   \n",
       "\n",
       "       Чай, кофе, аксессуары         Чехия     Швейцария        Швеция  \\\n",
       "count           2.713000e+03  2.713000e+03  2.713000e+03  2.713000e+03   \n",
       "mean            4.583302e-18  6.547574e-18 -1.047612e-17  4.976156e-17   \n",
       "std             1.000000e+00  1.000000e+00  1.000000e+00  1.000000e+00   \n",
       "min            -6.664204e-02 -2.715627e-02 -4.296162e-02 -5.768167e-02   \n",
       "25%            -6.664204e-02 -2.715627e-02 -4.296162e-02 -5.768167e-02   \n",
       "50%            -6.664204e-02 -2.715627e-02 -4.296162e-02 -5.768167e-02   \n",
       "75%            -6.664204e-02 -2.715627e-02 -4.296162e-02 -5.768167e-02   \n",
       "max             1.500001e+01  3.681033e+01  2.326801e+01  1.733014e+01   \n",
       "\n",
       "       Шоколадный бутик    Шри-Ланка  Ювелирные магазины  Южная Корея  \\\n",
       "count       2713.000000  2713.000000        2.713000e+03  2713.000000   \n",
       "mean           0.000000     0.000000        3.666641e-17     0.000000   \n",
       "std            1.000000     1.000000        1.000000e+00     1.000000   \n",
       "min           -0.019199    -0.027156       -1.590972e-01    -0.027156   \n",
       "25%           -0.019199    -0.027156       -1.590972e-01    -0.027156   \n",
       "50%           -0.019199    -0.027156       -1.590972e-01    -0.027156   \n",
       "75%           -0.019199    -0.027156       -1.590972e-01    -0.027156   \n",
       "max           52.067268    36.810330        6.283151e+00    36.810330   \n",
       "\n",
       "             Япония  \n",
       "count  2.713000e+03  \n",
       "mean   3.928544e-17  \n",
       "std    1.000000e+00  \n",
       "min   -5.768167e-02  \n",
       "25%   -5.768167e-02  \n",
       "50%   -5.768167e-02  \n",
       "75%   -5.768167e-02  \n",
       "max    1.733014e+01  \n",
       "\n",
       "[8 rows x 83 columns]"
      ]
     },
     "execution_count": 409,
     "metadata": {},
     "output_type": "execute_result"
    }
   ],
   "source": [
    "data_norm.describe()"
   ]
  },
  {
   "cell_type": "markdown",
   "id": "1a4182d7",
   "metadata": {},
   "source": [
    "## Обучающая и тестовая выборка"
   ]
  },
  {
   "cell_type": "code",
   "execution_count": 418,
   "id": "1d4a53e3",
   "metadata": {},
   "outputs": [],
   "source": [
    "X = data.drop('price_category', axis = 1)\n",
    "y = data['price_category']\n",
    "feature_names = X.columns"
   ]
  },
  {
   "cell_type": "code",
   "execution_count": 411,
   "id": "fe1e8fa2",
   "metadata": {},
   "outputs": [
    {
     "data": {
      "text/plain": [
       "Index(['founded', 'presence_world', 'presence_russia', 'plans',\n",
       "       'Авто и товары для авто', 'Аксессуары', 'Аптека', 'Банк, кредит, заем',\n",
       "       'Бытовая техника', 'Вендинг', 'Вино и алкогольные напитки',\n",
       "       'Все для дома', 'Здоровье, лечение, профилактика', 'Зоотовары и услуги',\n",
       "       'Кафе, ресторан', 'Книги и печатные издания',\n",
       "       'Компьютеры, комплектующие, аксессуары', 'Красота',\n",
       "       'Магазин для Взрослых', 'Мебель', 'Образование / обучение', 'Обувь',\n",
       "       'Одежда', 'Оптика', 'Парфюмерия и Косметика', 'Продукты питания',\n",
       "       'Развлечения', 'Ремонт и строительство', 'Сигары, табак, аксессуары',\n",
       "       'Сладости и Шоколад', 'Сотовые телефоны, электроника, фото', 'Спорт',\n",
       "       'Ставки и лотереи', 'Сувениры и Подарки', 'Товары и услуги для детей',\n",
       "       'Туризм, путешествия', 'Услуги для бизнеса (b2b)', 'Услуги населению',\n",
       "       'Хобби и увлечения', 'Цветы и растения', 'Чай, кофе, аксессуары',\n",
       "       'Шоколадный бутик', 'Ювелирные магазины', 'Австралия', 'Австрия',\n",
       "       'Беларусь', 'Бельгия', 'Великобритания', 'Венгрия', 'Вьетнам',\n",
       "       'Германия', 'Греция', 'Грузия', 'Дания', 'Европа', 'Израиль', 'Индия',\n",
       "       'Испания', 'Италия', 'Канада', 'Китай', 'Корея', 'Латвия', 'Литва',\n",
       "       'Мексика', 'Молдавия', 'Нидерланды', 'Норвегия', 'Польша', 'Португалия',\n",
       "       'Россия', 'США', 'Сербия', 'Турция', 'Украина', 'Финляндия', 'Франция',\n",
       "       'Чехия', 'Швейцария', 'Швеция', 'Шри-Ланка', 'Южная Корея', 'Япония'],\n",
       "      dtype='object')"
      ]
     },
     "execution_count": 411,
     "metadata": {},
     "output_type": "execute_result"
    }
   ],
   "source": [
    "feature_names"
   ]
  },
  {
   "cell_type": "code",
   "execution_count": 419,
   "id": "6d11d317",
   "metadata": {},
   "outputs": [
    {
     "data": {
      "text/plain": [
       "numpy.ndarray"
      ]
     },
     "execution_count": 419,
     "metadata": {},
     "output_type": "execute_result"
    }
   ],
   "source": [
    "X = X.to_numpy()\n",
    "type(X)"
   ]
  },
  {
   "cell_type": "code",
   "execution_count": 421,
   "id": "656de610",
   "metadata": {},
   "outputs": [
    {
     "data": {
      "text/plain": [
       "array([2, 2, 1, ..., 1, 3, 2])"
      ]
     },
     "execution_count": 421,
     "metadata": {},
     "output_type": "execute_result"
    }
   ],
   "source": [
    "y = np.array(y, dtype='int')\n",
    "y"
   ]
  },
  {
   "cell_type": "code",
   "execution_count": 422,
   "id": "51434431",
   "metadata": {},
   "outputs": [
    {
     "data": {
      "text/plain": [
       "numpy.ndarray"
      ]
     },
     "execution_count": 422,
     "metadata": {},
     "output_type": "execute_result"
    }
   ],
   "source": [
    "type(y)"
   ]
  },
  {
   "cell_type": "code",
   "execution_count": 423,
   "id": "fef67af8",
   "metadata": {},
   "outputs": [
    {
     "name": "stdout",
     "output_type": "stream",
     "text": [
      "(2713, 83)\n",
      "(2713,)\n"
     ]
    }
   ],
   "source": [
    "print(X.shape)\n",
    "print(y.shape)\n",
    "N, d = X.shape"
   ]
  },
  {
   "cell_type": "code",
   "execution_count": 424,
   "id": "189fa78f",
   "metadata": {},
   "outputs": [
    {
     "name": "stdout",
     "output_type": "stream",
     "text": [
      "1899 814\n"
     ]
    }
   ],
   "source": [
    "from sklearn.model_selection import train_test_split\n",
    "X_train, X_test, y_train, y_test = train_test_split(X, y, test_size = 0.3, random_state = 42)\n",
    "\n",
    "N_train, _ = X_train.shape\n",
    "N_test, _ = X_test.shape\n",
    "\n",
    "print(N_train, N_test)"
   ]
  },
  {
   "cell_type": "markdown",
   "id": "2fb24f96",
   "metadata": {},
   "source": [
    "## k ближайших соседей (kNN)"
   ]
  },
  {
   "cell_type": "code",
   "execution_count": 425,
   "id": "00fdc3a6",
   "metadata": {},
   "outputs": [
    {
     "data": {
      "text/html": [
       "<style>#sk-container-id-1 {color: black;background-color: white;}#sk-container-id-1 pre{padding: 0;}#sk-container-id-1 div.sk-toggleable {background-color: white;}#sk-container-id-1 label.sk-toggleable__label {cursor: pointer;display: block;width: 100%;margin-bottom: 0;padding: 0.3em;box-sizing: border-box;text-align: center;}#sk-container-id-1 label.sk-toggleable__label-arrow:before {content: \"▸\";float: left;margin-right: 0.25em;color: #696969;}#sk-container-id-1 label.sk-toggleable__label-arrow:hover:before {color: black;}#sk-container-id-1 div.sk-estimator:hover label.sk-toggleable__label-arrow:before {color: black;}#sk-container-id-1 div.sk-toggleable__content {max-height: 0;max-width: 0;overflow: hidden;text-align: left;background-color: #f0f8ff;}#sk-container-id-1 div.sk-toggleable__content pre {margin: 0.2em;color: black;border-radius: 0.25em;background-color: #f0f8ff;}#sk-container-id-1 input.sk-toggleable__control:checked~div.sk-toggleable__content {max-height: 200px;max-width: 100%;overflow: auto;}#sk-container-id-1 input.sk-toggleable__control:checked~label.sk-toggleable__label-arrow:before {content: \"▾\";}#sk-container-id-1 div.sk-estimator input.sk-toggleable__control:checked~label.sk-toggleable__label {background-color: #d4ebff;}#sk-container-id-1 div.sk-label input.sk-toggleable__control:checked~label.sk-toggleable__label {background-color: #d4ebff;}#sk-container-id-1 input.sk-hidden--visually {border: 0;clip: rect(1px 1px 1px 1px);clip: rect(1px, 1px, 1px, 1px);height: 1px;margin: -1px;overflow: hidden;padding: 0;position: absolute;width: 1px;}#sk-container-id-1 div.sk-estimator {font-family: monospace;background-color: #f0f8ff;border: 1px dotted black;border-radius: 0.25em;box-sizing: border-box;margin-bottom: 0.5em;}#sk-container-id-1 div.sk-estimator:hover {background-color: #d4ebff;}#sk-container-id-1 div.sk-parallel-item::after {content: \"\";width: 100%;border-bottom: 1px solid gray;flex-grow: 1;}#sk-container-id-1 div.sk-label:hover label.sk-toggleable__label {background-color: #d4ebff;}#sk-container-id-1 div.sk-serial::before {content: \"\";position: absolute;border-left: 1px solid gray;box-sizing: border-box;top: 0;bottom: 0;left: 50%;z-index: 0;}#sk-container-id-1 div.sk-serial {display: flex;flex-direction: column;align-items: center;background-color: white;padding-right: 0.2em;padding-left: 0.2em;position: relative;}#sk-container-id-1 div.sk-item {position: relative;z-index: 1;}#sk-container-id-1 div.sk-parallel {display: flex;align-items: stretch;justify-content: center;background-color: white;position: relative;}#sk-container-id-1 div.sk-item::before, #sk-container-id-1 div.sk-parallel-item::before {content: \"\";position: absolute;border-left: 1px solid gray;box-sizing: border-box;top: 0;bottom: 0;left: 50%;z-index: -1;}#sk-container-id-1 div.sk-parallel-item {display: flex;flex-direction: column;z-index: 1;position: relative;background-color: white;}#sk-container-id-1 div.sk-parallel-item:first-child::after {align-self: flex-end;width: 50%;}#sk-container-id-1 div.sk-parallel-item:last-child::after {align-self: flex-start;width: 50%;}#sk-container-id-1 div.sk-parallel-item:only-child::after {width: 0;}#sk-container-id-1 div.sk-dashed-wrapped {border: 1px dashed gray;margin: 0 0.4em 0.5em 0.4em;box-sizing: border-box;padding-bottom: 0.4em;background-color: white;}#sk-container-id-1 div.sk-label label {font-family: monospace;font-weight: bold;display: inline-block;line-height: 1.2em;}#sk-container-id-1 div.sk-label-container {text-align: center;}#sk-container-id-1 div.sk-container {/* jupyter's `normalize.less` sets `[hidden] { display: none; }` but bootstrap.min.css set `[hidden] { display: none !important; }` so we also need the `!important` here to be able to override the default hidden behavior on the sphinx rendered scikit-learn.org. See: https://github.com/scikit-learn/scikit-learn/issues/21755 */display: inline-block !important;position: relative;}#sk-container-id-1 div.sk-text-repr-fallback {display: none;}</style><div id=\"sk-container-id-1\" class=\"sk-top-container\"><div class=\"sk-text-repr-fallback\"><pre>KNeighborsClassifier(n_neighbors=10)</pre><b>In a Jupyter environment, please rerun this cell to show the HTML representation or trust the notebook. <br />On GitHub, the HTML representation is unable to render, please try loading this page with nbviewer.org.</b></div><div class=\"sk-container\" hidden><div class=\"sk-item\"><div class=\"sk-estimator sk-toggleable\"><input class=\"sk-toggleable__control sk-hidden--visually\" id=\"sk-estimator-id-1\" type=\"checkbox\" checked><label for=\"sk-estimator-id-1\" class=\"sk-toggleable__label sk-toggleable__label-arrow\">KNeighborsClassifier</label><div class=\"sk-toggleable__content\"><pre>KNeighborsClassifier(n_neighbors=10)</pre></div></div></div></div></div>"
      ],
      "text/plain": [
       "KNeighborsClassifier(n_neighbors=10)"
      ]
     },
     "execution_count": 425,
     "metadata": {},
     "output_type": "execute_result"
    }
   ],
   "source": [
    "from sklearn.neighbors import KNeighborsClassifier\n",
    "\n",
    "knn = KNeighborsClassifier(n_neighbors = 10)\n",
    "knn.fit(X_train, y_train)"
   ]
  },
  {
   "cell_type": "code",
   "execution_count": 426,
   "id": "4f3e8f6e",
   "metadata": {},
   "outputs": [
    {
     "data": {
      "text/html": [
       "<style>#sk-container-id-2 {color: black;background-color: white;}#sk-container-id-2 pre{padding: 0;}#sk-container-id-2 div.sk-toggleable {background-color: white;}#sk-container-id-2 label.sk-toggleable__label {cursor: pointer;display: block;width: 100%;margin-bottom: 0;padding: 0.3em;box-sizing: border-box;text-align: center;}#sk-container-id-2 label.sk-toggleable__label-arrow:before {content: \"▸\";float: left;margin-right: 0.25em;color: #696969;}#sk-container-id-2 label.sk-toggleable__label-arrow:hover:before {color: black;}#sk-container-id-2 div.sk-estimator:hover label.sk-toggleable__label-arrow:before {color: black;}#sk-container-id-2 div.sk-toggleable__content {max-height: 0;max-width: 0;overflow: hidden;text-align: left;background-color: #f0f8ff;}#sk-container-id-2 div.sk-toggleable__content pre {margin: 0.2em;color: black;border-radius: 0.25em;background-color: #f0f8ff;}#sk-container-id-2 input.sk-toggleable__control:checked~div.sk-toggleable__content {max-height: 200px;max-width: 100%;overflow: auto;}#sk-container-id-2 input.sk-toggleable__control:checked~label.sk-toggleable__label-arrow:before {content: \"▾\";}#sk-container-id-2 div.sk-estimator input.sk-toggleable__control:checked~label.sk-toggleable__label {background-color: #d4ebff;}#sk-container-id-2 div.sk-label input.sk-toggleable__control:checked~label.sk-toggleable__label {background-color: #d4ebff;}#sk-container-id-2 input.sk-hidden--visually {border: 0;clip: rect(1px 1px 1px 1px);clip: rect(1px, 1px, 1px, 1px);height: 1px;margin: -1px;overflow: hidden;padding: 0;position: absolute;width: 1px;}#sk-container-id-2 div.sk-estimator {font-family: monospace;background-color: #f0f8ff;border: 1px dotted black;border-radius: 0.25em;box-sizing: border-box;margin-bottom: 0.5em;}#sk-container-id-2 div.sk-estimator:hover {background-color: #d4ebff;}#sk-container-id-2 div.sk-parallel-item::after {content: \"\";width: 100%;border-bottom: 1px solid gray;flex-grow: 1;}#sk-container-id-2 div.sk-label:hover label.sk-toggleable__label {background-color: #d4ebff;}#sk-container-id-2 div.sk-serial::before {content: \"\";position: absolute;border-left: 1px solid gray;box-sizing: border-box;top: 0;bottom: 0;left: 50%;z-index: 0;}#sk-container-id-2 div.sk-serial {display: flex;flex-direction: column;align-items: center;background-color: white;padding-right: 0.2em;padding-left: 0.2em;position: relative;}#sk-container-id-2 div.sk-item {position: relative;z-index: 1;}#sk-container-id-2 div.sk-parallel {display: flex;align-items: stretch;justify-content: center;background-color: white;position: relative;}#sk-container-id-2 div.sk-item::before, #sk-container-id-2 div.sk-parallel-item::before {content: \"\";position: absolute;border-left: 1px solid gray;box-sizing: border-box;top: 0;bottom: 0;left: 50%;z-index: -1;}#sk-container-id-2 div.sk-parallel-item {display: flex;flex-direction: column;z-index: 1;position: relative;background-color: white;}#sk-container-id-2 div.sk-parallel-item:first-child::after {align-self: flex-end;width: 50%;}#sk-container-id-2 div.sk-parallel-item:last-child::after {align-self: flex-start;width: 50%;}#sk-container-id-2 div.sk-parallel-item:only-child::after {width: 0;}#sk-container-id-2 div.sk-dashed-wrapped {border: 1px dashed gray;margin: 0 0.4em 0.5em 0.4em;box-sizing: border-box;padding-bottom: 0.4em;background-color: white;}#sk-container-id-2 div.sk-label label {font-family: monospace;font-weight: bold;display: inline-block;line-height: 1.2em;}#sk-container-id-2 div.sk-label-container {text-align: center;}#sk-container-id-2 div.sk-container {/* jupyter's `normalize.less` sets `[hidden] { display: none; }` but bootstrap.min.css set `[hidden] { display: none !important; }` so we also need the `!important` here to be able to override the default hidden behavior on the sphinx rendered scikit-learn.org. See: https://github.com/scikit-learn/scikit-learn/issues/21755 */display: inline-block !important;position: relative;}#sk-container-id-2 div.sk-text-repr-fallback {display: none;}</style><div id=\"sk-container-id-2\" class=\"sk-top-container\"><div class=\"sk-text-repr-fallback\"><pre>KNeighborsClassifier(n_neighbors=10)</pre><b>In a Jupyter environment, please rerun this cell to show the HTML representation or trust the notebook. <br />On GitHub, the HTML representation is unable to render, please try loading this page with nbviewer.org.</b></div><div class=\"sk-container\" hidden><div class=\"sk-item\"><div class=\"sk-estimator sk-toggleable\"><input class=\"sk-toggleable__control sk-hidden--visually\" id=\"sk-estimator-id-2\" type=\"checkbox\" checked><label for=\"sk-estimator-id-2\" class=\"sk-toggleable__label sk-toggleable__label-arrow\">KNeighborsClassifier</label><div class=\"sk-toggleable__content\"><pre>KNeighborsClassifier(n_neighbors=10)</pre></div></div></div></div></div>"
      ],
      "text/plain": [
       "KNeighborsClassifier(n_neighbors=10)"
      ]
     },
     "execution_count": 426,
     "metadata": {},
     "output_type": "execute_result"
    }
   ],
   "source": [
    "knn"
   ]
  },
  {
   "cell_type": "code",
   "execution_count": 427,
   "id": "cdc1d4b4",
   "metadata": {},
   "outputs": [],
   "source": [
    "y_test_predict = knn.predict(X_test)\n",
    "err_test = np.mean(y_test != y_test_predict)"
   ]
  },
  {
   "cell_type": "code",
   "execution_count": 428,
   "id": "8233bbfb",
   "metadata": {},
   "outputs": [
    {
     "data": {
      "text/plain": [
       "0.32186732186732187"
      ]
     },
     "execution_count": 428,
     "metadata": {},
     "output_type": "execute_result"
    }
   ],
   "source": [
    "err_test"
   ]
  },
  {
   "cell_type": "markdown",
   "id": "8023396b",
   "metadata": {},
   "source": [
    "Подберём наилучшее количество ближайших соседей"
   ]
  },
  {
   "cell_type": "code",
   "execution_count": 434,
   "id": "9a39172e",
   "metadata": {},
   "outputs": [
    {
     "name": "stdout",
     "output_type": "stream",
     "text": [
      "0.3106918043970355 30\n"
     ]
    }
   ],
   "source": [
    "from sklearn.model_selection import GridSearchCV\n",
    "\n",
    "nnb = [1, 3, 5, 10, 15, 20, 25, 30, 35, 40, 45, 50]\n",
    "knn = KNeighborsClassifier()\n",
    "grid = GridSearchCV(knn, param_grid = {'n_neighbors': nnb}, cv=7)\n",
    "grid.fit(X_train, y_train)\n",
    "\n",
    "best_cv_err = 1 - grid.best_score_\n",
    "best_n_neighbors = grid.best_estimator_.n_neighbors\n",
    "print(best_cv_err, best_n_neighbors)"
   ]
  },
  {
   "cell_type": "code",
   "execution_count": 435,
   "id": "372d0fc2",
   "metadata": {},
   "outputs": [
    {
     "name": "stdout",
     "output_type": "stream",
     "text": [
      "0.31121642969984203 0.3083538083538084\n"
     ]
    }
   ],
   "source": [
    "knn = KNeighborsClassifier(n_neighbors = best_n_neighbors).fit(X_train, y_train)\n",
    "\n",
    "err_train = np.mean(y_train != knn.predict(X_train))\n",
    "err_test = np.mean(y_test != knn.predict(X_test))\n",
    "\n",
    "print(err_train, err_test)"
   ]
  },
  {
   "cell_type": "markdown",
   "id": "d80ea508",
   "metadata": {},
   "source": [
    "Вывод: для данного датасета метод k ближайших соседей работает не очень хорошо, ошибка составляет около 30%"
   ]
  },
  {
   "cell_type": "markdown",
   "id": "f0e06821",
   "metadata": {},
   "source": [
    "## SVC"
   ]
  },
  {
   "cell_type": "code",
   "execution_count": 436,
   "id": "9f670df8",
   "metadata": {},
   "outputs": [
    {
     "name": "stdout",
     "output_type": "stream",
     "text": [
      "0.23696682464454977 0.3083538083538084\n"
     ]
    }
   ],
   "source": [
    "from sklearn.svm import SVC\n",
    "svc = SVC(gamma='auto')\n",
    "svc.fit(X_train, y_train)\n",
    "\n",
    "err_train = np.mean(y_train != svc.predict(X_train))\n",
    "err_test  = np.mean(y_test  != svc.predict(X_test))\n",
    "\n",
    "print(err_train, err_test)"
   ]
  },
  {
   "cell_type": "markdown",
   "id": "306b00a7",
   "metadata": {},
   "source": [
    "Подберём параметры"
   ]
  },
  {
   "cell_type": "code",
   "execution_count": 437,
   "id": "d43cf127",
   "metadata": {},
   "outputs": [
    {
     "name": "stdout",
     "output_type": "stream",
     "text": [
      "0.310163243812533 1.0\n"
     ]
    }
   ],
   "source": [
    "from sklearn.model_selection import GridSearchCV\n",
    "Cs = 10.**np.arange(-5, 5)\n",
    "gamma_array = 10.**np.arange(-5, 5)\n",
    "svc = SVC(gamma='auto')\n",
    "grid = GridSearchCV(svc, cv=3, param_grid = {'C': Cs, 'gamma': gamma_array})\n",
    "grid.fit(X_train, y_train)\n",
    "\n",
    "best_cv_err = 1 - grid.best_score_\n",
    "best_C = grid.best_estimator_.C\n",
    "print(best_cv_err, best_C)"
   ]
  },
  {
   "cell_type": "code",
   "execution_count": 438,
   "id": "bd731a25",
   "metadata": {},
   "outputs": [
    {
     "name": "stdout",
     "output_type": "stream",
     "text": [
      "0.31121642969984203 0.3083538083538084\n"
     ]
    }
   ],
   "source": [
    "svc = SVC(C = best_C, gamma='auto').fit(X_train, y_train)\n",
    "\n",
    "err_train = np.mean(y_train != knn.predict(X_train))\n",
    "err_test  = np.mean(y_test  != knn.predict(X_test))\n",
    "\n",
    "print(err_train, err_test)"
   ]
  },
  {
   "cell_type": "markdown",
   "id": "54657cdb",
   "metadata": {},
   "source": [
    "Вывод: при использовании машины опорных векторов ошибка не уменьшилась"
   ]
  },
  {
   "cell_type": "markdown",
   "id": "1e562ec6",
   "metadata": {},
   "source": [
    "## Random Forest"
   ]
  },
  {
   "cell_type": "code",
   "execution_count": 440,
   "id": "74fd2758",
   "metadata": {},
   "outputs": [
    {
     "name": "stdout",
     "output_type": "stream",
     "text": [
      "0.0026329647182727752 0.33415233415233414\n"
     ]
    }
   ],
   "source": [
    "from sklearn import ensemble\n",
    "rf = ensemble.RandomForestClassifier(n_estimators = 1000)\n",
    "rf.fit(X_train, y_train)\n",
    "\n",
    "err_train = np.mean(y_train != rf.predict(X_train))\n",
    "err_test  = np.mean(y_test  != rf.predict(X_test))\n",
    "\n",
    "print(err_train, err_test)"
   ]
  },
  {
   "cell_type": "markdown",
   "id": "c20d2e24",
   "metadata": {},
   "source": [
    "Значимость признаков"
   ]
  },
  {
   "cell_type": "code",
   "execution_count": 441,
   "id": "4f486ccb",
   "metadata": {},
   "outputs": [
    {
     "data": {
      "text/plain": [
       "1.0"
      ]
     },
     "execution_count": 441,
     "metadata": {},
     "output_type": "execute_result"
    }
   ],
   "source": [
    "np.sum(rf.feature_importances_)"
   ]
  },
  {
   "cell_type": "code",
   "execution_count": 442,
   "id": "89ea52fb",
   "metadata": {},
   "outputs": [
    {
     "name": "stdout",
     "output_type": "stream",
     "text": [
      "Feature ranking:\n",
      " 1. feature 'presence_russia' (0.270616)\n",
      " 2. feature 'founded' (0.240887)\n",
      " 3. feature 'presence_world' (0.118347)\n",
      " 4. feature 'plans' (0.077834)\n",
      " 5. feature 'Россия' (0.020649)\n",
      " 6. feature 'Одежда' (0.018201)\n",
      " 7. feature 'Ювелирные магазины' (0.011845)\n",
      " 8. feature 'Продукты питания' (0.011339)\n",
      " 9. feature 'Кафе, ресторан' (0.010834)\n",
      "10. feature 'Аксессуары' (0.009952)\n",
      "11. feature 'Обувь' (0.009666)\n",
      "12. feature 'Мебель' (0.009221)\n",
      "13. feature 'Италия' (0.009051)\n",
      "14. feature 'Красота' (0.008608)\n",
      "15. feature 'Все для дома' (0.008083)\n",
      "16. feature 'Товары и услуги для детей' (0.007499)\n",
      "17. feature 'Парфюмерия и Косметика' (0.007442)\n",
      "18. feature 'Спорт' (0.007409)\n",
      "19. feature 'Аптека' (0.006880)\n",
      "20. feature 'Услуги населению' (0.006555)\n",
      "21. feature 'Германия' (0.005945)\n",
      "22. feature '  США' (0.005885)\n",
      "23. feature 'Оптика' (0.005829)\n",
      "24. feature 'Ремонт и строительство' (0.005455)\n",
      "25. feature 'Развлечения' (0.005397)\n",
      "26. feature 'Сотовые телефоны, электроника, фото' (0.005004)\n",
      "27. feature 'Вино и алкогольные напитки' (0.005002)\n",
      "28. feature 'Здоровье, лечение, профилактика' (0.004848)\n",
      "29. feature 'Франция' (0.004750)\n",
      "30. feature 'Бытовая техника' (0.004595)\n",
      "31. feature 'Банк, кредит, заем' (0.004274)\n",
      "32. feature 'Авто и товары для авто' (0.003453)\n",
      "33. feature 'Чай, кофе, аксессуары' (0.003219)\n",
      "34. feature 'Турция' (0.003187)\n",
      "35. feature 'Польша' (0.003063)\n",
      "36. feature 'Услуги для бизнеса (b2b)' (0.003060)\n",
      "37. feature 'Дания' (0.002978)\n",
      "38. feature 'Сладости и Шоколад' (0.002933)\n",
      "39. feature 'Цветы и растения' (0.002836)\n",
      "40. feature 'Хобби и увлечения' (0.002729)\n",
      "41. feature 'Сувениры и Подарки' (0.002543)\n",
      "42. feature 'Испания' (0.002536)\n",
      "43. feature 'Зоотовары и услуги' (0.002477)\n",
      "44. feature 'Книги и печатные издания' (0.002412)\n",
      "45. feature 'Беларусь' (0.002303)\n",
      "46. feature 'Компьютеры, комплектующие, аксессуары' (0.002158)\n",
      "47. feature 'Австралия' (0.002102)\n",
      "48. feature 'Великобритания' (0.001934)\n",
      "49. feature 'Швеция' (0.001825)\n",
      "50. feature 'Япония' (0.001809)\n",
      "51. feature 'Туризм, путешествия' (0.001737)\n",
      "52. feature 'Вендинг' (0.001713)\n",
      "53. feature 'Австрия' (0.001600)\n",
      "54. feature 'Шри-Ланка' (0.001588)\n",
      "55. feature 'Финляндия' (0.001545)\n",
      "56. feature 'Образование / обучение' (0.001214)\n",
      "57. feature 'Нидерланды' (0.001200)\n",
      "58. feature 'Магазин для Взрослых' (0.001112)\n",
      "59. feature 'Сигары, табак, аксессуары' (0.001097)\n",
      "60. feature 'Украина' (0.001063)\n",
      "61. feature 'Канада' (0.000978)\n",
      "62. feature 'Латвия' (0.000908)\n",
      "63. feature 'Швейцария' (0.000880)\n",
      "64. feature 'Португалия' (0.000780)\n",
      "65. feature 'Китай' (0.000760)\n",
      "66. feature 'Чехия' (0.000725)\n",
      "67. feature 'Литва' (0.000719)\n",
      "68. feature 'Европа' (0.000613)\n",
      "69. feature 'Корея' (0.000529)\n",
      "70. feature 'Южная Корея' (0.000476)\n",
      "71. feature 'Шоколадный бутик' (0.000412)\n",
      "72. feature 'Ставки и лотереи' (0.000208)\n",
      "73. feature 'Норвегия' (0.000183)\n",
      "74. feature 'Мексика' (0.000152)\n",
      "75. feature 'Бельгия' (0.000147)\n",
      "76. feature 'Греция' (0.000076)\n",
      "77. feature 'Молдавия' (0.000066)\n",
      "78. feature 'Грузия' (0.000060)\n",
      "79. feature 'Индия' (0.000000)\n",
      "80. feature 'Израиль' (0.000000)\n",
      "81. feature 'Сербия' (0.000000)\n",
      "82. feature 'Вьетнам' (0.000000)\n",
      "83. feature 'Венгрия' (0.000000)\n"
     ]
    }
   ],
   "source": [
    "importances = rf.feature_importances_\n",
    "indices = np.argsort(importances)[::-1]\n",
    "\n",
    "print(\"Feature ranking:\")\n",
    "\n",
    "for f in range(d):\n",
    "    print(\"%2d. feature '%5s' (%f)\" % (f + 1, feature_names[indices[f]], importances[indices[f]]))   "
   ]
  },
  {
   "cell_type": "code",
   "execution_count": 443,
   "id": "3e37c446",
   "metadata": {},
   "outputs": [
    {
     "data": {
      "text/plain": [
       "Index(['presence_world', 'founded', 'presence_world'], dtype='object')"
      ]
     },
     "execution_count": 443,
     "metadata": {},
     "output_type": "execute_result"
    }
   ],
   "source": [
    "feature_names[[1, 0, 1]]"
   ]
  },
  {
   "cell_type": "code",
   "execution_count": 444,
   "id": "879bdfda",
   "metadata": {},
   "outputs": [
    {
     "data": {
      "text/plain": [
       "(-1.0, 20.0)"
      ]
     },
     "execution_count": 444,
     "metadata": {},
     "output_type": "execute_result"
    },
    {
     "data": {
      "image/png": "[encoded data removed]",
      "text/plain": [
       "<Figure size 640x480 with 1 Axes>"
      ]
     },
     "metadata": {},
     "output_type": "display_data"
    }
   ],
   "source": [
    "d_first = 20\n",
    "plt.title(\"Feature importances\")\n",
    "plt.bar(range(d_first), importances[indices[:d_first]], align = 'center', color = 'r')\n",
    "plt.xticks(range(d_first), feature_names[indices[:d_first]], rotation = 90)\n",
    "plt.xlim([-1, d_first])"
   ]
  },
  {
   "cell_type": "markdown",
   "id": "420a06e2",
   "metadata": {},
   "source": [
    "Признаки 'presence_russia', 'founded', 'presence_world' и 'plans' игрют решающую роль. Все остльаные признаки не приностят значимого вклада"
   ]
  },
  {
   "cell_type": "markdown",
   "id": "4893c528",
   "metadata": {},
   "source": [
    "## Extremely Randomized Trees"
   ]
  },
  {
   "cell_type": "code",
   "execution_count": 445,
   "id": "592e18ba",
   "metadata": {},
   "outputs": [
    {
     "name": "stdout",
     "output_type": "stream",
     "text": [
      "0.0026329647182727752 0.36855036855036855\n"
     ]
    }
   ],
   "source": [
    "ert = ensemble.ExtraTreesClassifier(n_estimators = 100).fit(X_train, y_train)\n",
    "\n",
    "err_train = np.mean(y_train != ert.predict(X_train))\n",
    "err_test  = np.mean(y_test  != ert.predict(X_test))\n",
    "\n",
    "print(err_train, err_test)"
   ]
  },
  {
   "cell_type": "markdown",
   "id": "ce0243bb",
   "metadata": {},
   "source": [
    "## AdaBoost"
   ]
  },
  {
   "cell_type": "code",
   "execution_count": 446,
   "id": "6e98de01",
   "metadata": {},
   "outputs": [
    {
     "name": "stdout",
     "output_type": "stream",
     "text": [
      "0.8172722485518694 0.8538083538083538\n"
     ]
    }
   ],
   "source": [
    "ada = ensemble.AdaBoostClassifier(n_estimators = 1000)\n",
    "ada.fit(X_train, y_train)\n",
    "\n",
    "err_train = np.mean(y_train != ada.predict(X_train))\n",
    "err_test = np.mean(y_test != ada.predict(X_test))\n",
    "\n",
    "print(err_train, err_test)"
   ]
  },
  {
   "cell_type": "markdown",
   "id": "1a20a373",
   "metadata": {},
   "source": [
    "## GBT"
   ]
  },
  {
   "cell_type": "code",
   "execution_count": 447,
   "id": "6bfb0ece",
   "metadata": {},
   "outputs": [
    {
     "name": "stdout",
     "output_type": "stream",
     "text": [
      "0.03317535545023697 0.35626535626535627\n"
     ]
    }
   ],
   "source": [
    "gbt = ensemble.GradientBoostingClassifier(n_estimators = 1000)\n",
    "gbt.fit(X_train, y_train)\n",
    "\n",
    "err_train = np.mean(y_train != gbt.predict(X_train))\n",
    "err_test = np.mean(y_test != gbt.predict(X_test))\n",
    "\n",
    "print(err_train, err_test)"
   ]
  },
  {
   "cell_type": "markdown",
   "id": "d2fbde17",
   "metadata": {},
   "source": [
    "## Удалим нерешающие признаки и ещё раз попробуем kNN"
   ]
  },
  {
   "cell_type": "code",
   "execution_count": 452,
   "id": "d9b0f4be",
   "metadata": {},
   "outputs": [],
   "source": [
    "new_X = pd.concat((data['presence_russia'], data['presence_world'], data['founded'], data['plans']), axis = 1)"
   ]
  },
  {
   "cell_type": "code",
   "execution_count": 453,
   "id": "7176ffeb",
   "metadata": {},
   "outputs": [],
   "source": [
    "new_X = new_X.to_numpy()"
   ]
  },
  {
   "cell_type": "code",
   "execution_count": 455,
   "id": "02f76811",
   "metadata": {},
   "outputs": [
    {
     "name": "stdout",
     "output_type": "stream",
     "text": [
      "(2713, 4)\n",
      "(2713,)\n"
     ]
    }
   ],
   "source": [
    "print(new_X.shape)\n",
    "print(y.shape)\n",
    "N, d = new_X.shape"
   ]
  },
  {
   "cell_type": "code",
   "execution_count": 456,
   "id": "a5e01b16",
   "metadata": {},
   "outputs": [
    {
     "name": "stdout",
     "output_type": "stream",
     "text": [
      "1899 814\n"
     ]
    }
   ],
   "source": [
    "X_train, X_test, y_train, y_test = train_test_split(new_X, y, test_size = 0.3, random_state = 42)\n",
    "\n",
    "N_train, _ = X_train.shape \n",
    "N_test,  _ = X_test.shape \n",
    "\n",
    "print(N_train, N_test)"
   ]
  },
  {
   "cell_type": "code",
   "execution_count": 462,
   "id": "0ab0bf22",
   "metadata": {},
   "outputs": [
    {
     "name": "stderr",
     "output_type": "stream",
     "text": [
      "/usr/local/lib/python3.10/site-packages/sklearn/model_selection/_split.py:684: UserWarning: The least populated class in y has only 7 members, which is less than n_splits=10.\n",
      "  warnings.warn(\n"
     ]
    },
    {
     "name": "stdout",
     "output_type": "stream",
     "text": [
      "0.3106906154274576 20\n"
     ]
    }
   ],
   "source": [
    "nnb = [1, 3, 5, 10, 15, 20, 25, 30, 35, 40, 45, 50]\n",
    "knn = KNeighborsClassifier()\n",
    "grid = GridSearchCV(knn, param_grid = {'n_neighbors': nnb}, cv=10)\n",
    "grid.fit(X_train, y_train)\n",
    "\n",
    "best_cv_err = 1 - grid.best_score_\n",
    "best_n_neighbors = grid.best_estimator_.n_neighbors\n",
    "print(best_cv_err, best_n_neighbors)\n"
   ]
  },
  {
   "cell_type": "code",
   "execution_count": 463,
   "id": "c0d7f1f8",
   "metadata": {},
   "outputs": [
    {
     "name": "stdout",
     "output_type": "stream",
     "text": [
      "0.3122696155871511 0.3058968058968059\n"
     ]
    }
   ],
   "source": [
    "knn = KNeighborsClassifier(n_neighbors = best_n_neighbors).fit(X_train, y_train)\n",
    "\n",
    "err_train = np.mean(y_train != knn.predict(X_train))\n",
    "err_test  = np.mean(y_test  != knn.predict(X_test))\n",
    "\n",
    "print(err_train, err_test)"
   ]
  },
  {
   "cell_type": "markdown",
   "id": "c54cfcad",
   "metadata": {},
   "source": [
    "## Вывод"
   ]
  },
  {
   "cell_type": "markdown",
   "id": "0fd8b81c",
   "metadata": {},
   "source": [
    "Как мы видим, с помощью методов, представленных выше, нельзя предугадать ценовую категорию магазина по тому, сколько магазинов открыто в России и в мире и в каком году с ошибкой, меньше чем 30%"
   ]
  }
 ],
 "metadata": {
  "kernelspec": {
   "display_name": "Python 3 (ipykernel)",
   "language": "python",
   "name": "python3"
  },
  "language_info": {
   "codemirror_mode": {
    "name": "ipython",
    "version": 3
   },
   "file_extension": ".py",
   "mimetype": "text/x-python",
   "name": "python",
   "nbconvert_exporter": "python",
   "pygments_lexer": "ipython3",
   "version": "3.10.6"
  }
 },
 "nbformat": 4,
 "nbformat_minor": 5
}
